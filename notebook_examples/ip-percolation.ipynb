{
 "cells": [
  {
   "cell_type": "markdown",
   "metadata": {},
   "source": [
    "#### Provide an example of invasion percolation"
   ]
  },
  {
   "cell_type": "code",
   "execution_count": 2,
   "metadata": {},
   "outputs": [
    {
     "data": {
      "application/vnd.jupyter.widget-view+json": {
       "model_id": "bc1555d9f7d84f158d291d88749ef33f",
       "version_major": 2,
       "version_minor": 0
      },
      "text/plain": [
       "0it [00:00, ?it/s]"
      ]
     },
     "metadata": {},
     "output_type": "display_data"
    },
    {
     "data": {
      "application/vnd.jupyter.widget-view+json": {
       "model_id": "ac9dbd123b714188930b2873f2865111",
       "version_major": 2,
       "version_minor": 0
      },
      "text/plain": [
       "0it [00:00, ?it/s]"
      ]
     },
     "metadata": {},
     "output_type": "display_data"
    },
    {
     "data": {
      "application/vnd.jupyter.widget-view+json": {
       "model_id": "3b3677452ada400fbf6bbfba320e9619",
       "version_major": 2,
       "version_minor": 0
      },
      "text/plain": [
       "0it [00:00, ?it/s]"
      ]
     },
     "metadata": {},
     "output_type": "display_data"
    },
    {
     "data": {
      "application/vnd.jupyter.widget-view+json": {
       "model_id": "c95a897ffd534a66818a119ed200506c",
       "version_major": 2,
       "version_minor": 0
      },
      "text/plain": [
       "0it [00:00, ?it/s]"
      ]
     },
     "metadata": {},
     "output_type": "display_data"
    },
    {
     "data": {
      "application/vnd.jupyter.widget-view+json": {
       "model_id": "a870befd33924531aa5d05c4086d7d8b",
       "version_major": 2,
       "version_minor": 0
      },
      "text/plain": [
       "0it [00:00, ?it/s]"
      ]
     },
     "metadata": {},
     "output_type": "display_data"
    },
    {
     "data": {
      "application/vnd.jupyter.widget-view+json": {
       "model_id": "e6669a23eb794e5794f3d652d77cc135",
       "version_major": 2,
       "version_minor": 0
      },
      "text/plain": [
       "0it [00:00, ?it/s]"
      ]
     },
     "metadata": {},
     "output_type": "display_data"
    },
    {
     "data": {
      "application/vnd.jupyter.widget-view+json": {
       "model_id": "2323cfd23a0d40e5bb9bf3d14465e79c",
       "version_major": 2,
       "version_minor": 0
      },
      "text/plain": [
       "0it [00:00, ?it/s]"
      ]
     },
     "metadata": {},
     "output_type": "display_data"
    },
    {
     "data": {
      "application/vnd.jupyter.widget-view+json": {
       "model_id": "d567b0fae68f4237b499ba4d66ed09ef",
       "version_major": 2,
       "version_minor": 0
      },
      "text/plain": [
       "0it [00:00, ?it/s]"
      ]
     },
     "metadata": {},
     "output_type": "display_data"
    },
    {
     "data": {
      "application/vnd.jupyter.widget-view+json": {
       "model_id": "c1be7585375e4f1bbddbf9eab86552bd",
       "version_major": 2,
       "version_minor": 0
      },
      "text/plain": [
       "0it [00:00, ?it/s]"
      ]
     },
     "metadata": {},
     "output_type": "display_data"
    },
    {
     "data": {
      "application/vnd.jupyter.widget-view+json": {
       "model_id": "c81dfc9574934716bcc5bb26869917d7",
       "version_major": 2,
       "version_minor": 0
      },
      "text/plain": [
       "0it [00:00, ?it/s]"
      ]
     },
     "metadata": {},
     "output_type": "display_data"
    },
    {
     "data": {
      "application/vnd.jupyter.widget-view+json": {
       "model_id": "011a8e0cdbf648e294f96906f86cd614",
       "version_major": 2,
       "version_minor": 0
      },
      "text/plain": [
       "0it [00:00, ?it/s]"
      ]
     },
     "metadata": {},
     "output_type": "display_data"
    },
    {
     "data": {
      "application/vnd.jupyter.widget-view+json": {
       "model_id": "fe9ce317f025415288e9c79e6cbb6f98",
       "version_major": 2,
       "version_minor": 0
      },
      "text/plain": [
       "0it [00:00, ?it/s]"
      ]
     },
     "metadata": {},
     "output_type": "display_data"
    },
    {
     "data": {
      "application/vnd.jupyter.widget-view+json": {
       "model_id": "cb1ee68bebb04f2a9b52159a775e46e8",
       "version_major": 2,
       "version_minor": 0
      },
      "text/plain": [
       "0it [00:00, ?it/s]"
      ]
     },
     "metadata": {},
     "output_type": "display_data"
    },
    {
     "data": {
      "application/vnd.jupyter.widget-view+json": {
       "model_id": "8a1ae0b7138148008d13091cc1152403",
       "version_major": 2,
       "version_minor": 0
      },
      "text/plain": [
       "0it [00:00, ?it/s]"
      ]
     },
     "metadata": {},
     "output_type": "display_data"
    },
    {
     "data": {
      "application/vnd.jupyter.widget-view+json": {
       "model_id": "b92ac5367c414bb79d6b8533a5680a08",
       "version_major": 2,
       "version_minor": 0
      },
      "text/plain": [
       "0it [00:00, ?it/s]"
      ]
     },
     "metadata": {},
     "output_type": "display_data"
    },
    {
     "data": {
      "application/vnd.jupyter.widget-view+json": {
       "model_id": "536d31b82a714dfe8fe5fda6e8e66cc0",
       "version_major": 2,
       "version_minor": 0
      },
      "text/plain": [
       "0it [00:00, ?it/s]"
      ]
     },
     "metadata": {},
     "output_type": "display_data"
    },
    {
     "data": {
      "application/vnd.jupyter.widget-view+json": {
       "model_id": "ab03b5586f9d41e6bcb3ba4edfae54df",
       "version_major": 2,
       "version_minor": 0
      },
      "text/plain": [
       "Extracting pore and throat properties:   0%|          | 0/764 [00:00<?, ?it/s]"
      ]
     },
     "metadata": {},
     "output_type": "display_data"
    },
    {
     "name": "stderr",
     "output_type": "stream",
     "text": [
      "------------------------------------------------------------\n",
      "  - ERROR  : throat.diffusive_conductance was not run since\n",
      "             the following property is missing:\n",
      "             'throat.diffusivity' \n",
      "  - SOURCE : openpnm.core._base2.regenerate_models \n",
      "  - TIME   : 2022-09-15 00:21:43,735    \n",
      "------------------------------------------------------------\n"
     ]
    }
   ],
   "source": [
    "import numpy as np\n",
    "import porespy as ps\n",
    "import openpnm as op\n",
    "import matplotlib.pyplot as plt\n",
    "import random\n",
    "np.random.seed(0)\n",
    "im = np.load('1.npy')\n",
    "\n",
    "snow = ps.networks.snow2(\n",
    "    phases=im,\n",
    "    phase_alias={True:\"void\",False:\"solid\"},\n",
    "    voxel_size=2.32e-06)\n",
    "\n",
    "ws = op.Workspace()\n",
    "pn = op.io.network_from_porespy(snow.network)\n",
    "pn.add_model_collection(op.models.collections.geometry.spheres_and_cylinders)\n",
    "pn.regenerate_models()\n",
    "proj = pn.project\n",
    "\n",
    "# add boundary pores\n",
    "min_coor = pn['pore.coords'].min()\n",
    "max_coor = pn['pore.coords'].max()\n",
    "\n",
    "def marker_arr(min_value,max_value,boundary='left'):\n",
    "\n",
    "    if boundary == 'left':\n",
    "        marker = [\n",
    "                min_value,\n",
    "                random.uniform(min_value,max_value),\n",
    "                random.uniform(min_value,max_value)\n",
    "                ]\n",
    "\n",
    "    if boundary == \"right\":\n",
    "        marker = [\n",
    "        max_value,\n",
    "        random.uniform(min_value,max_value),\n",
    "        random.uniform(min_value,max_value)\n",
    "        ]\n",
    "    \n",
    "    return marker\n",
    "\n",
    "\n",
    "left_marker = [marker_arr(min_coor,max_coor) for _ in range(20)]\n",
    "right_marker = [marker_arr(min_coor,max_coor,'right') for _ in range(20)]\n",
    "left_marker = np.array(left_marker)\n",
    "right_marker = np.array(right_marker)\n",
    "\n",
    "op.topotools.find_surface_pores(network=pn, markers=left_marker, label='left')\n",
    "op.topotools.find_surface_pores(network=pn, markers=right_marker, label='right')\n",
    "# %% Invasion Percolation\n",
    "air = op.phase.Air(network=pn,name='air')\n",
    "air['pore.surface_tension'] = 0.072\n",
    "air['pore.contact_angle'] = 180.0\n",
    "air.add_model_collection(op.models.collections.phase.air)\n",
    "air.add_model_collection(op.models.collections.physics.basic)\n",
    "air.regenerate_models()\n",
    "water = op.phase.Water(network=pn,name='water')\n",
    "water.add_model_collection(op.models.collections.phase.water)\n",
    "water.add_model_collection(op.models.collections.physics.basic)\n",
    "water.regenerate_models()\n",
    "\n"
   ]
  },
  {
   "cell_type": "markdown",
   "metadata": {},
   "source": [
    "#### Invasion percolation without trapping"
   ]
  },
  {
   "cell_type": "code",
   "execution_count": 3,
   "metadata": {},
   "outputs": [
    {
     "data": {
      "text/plain": [
       "Text(0, 0.5, 'Non-Wetting Phase Saturation')"
      ]
     },
     "execution_count": 3,
     "metadata": {},
     "output_type": "execute_result"
    },
    {
     "data": {
      "image/png": "[encoded data removed]",
      "text/plain": [
       "<Figure size 640x480 with 1 Axes>"
      ]
     },
     "metadata": {},
     "output_type": "display_data"
    }
   ],
   "source": [
    "ip = op.algorithms.InvasionPercolation(network=pn, phase=air)\n",
    "Finlets_init = pn.pores('left')\n",
    "Finlets=([Finlets_init[x] for x in range(0, len(Finlets_init), 2)])\n",
    "ip.set_inlet_BC(pores=Finlets)\n",
    "ip.run()\n",
    "\n",
    "# plot the intrusion curve\n",
    "data = ip.pc_curve()\n",
    "f = plt.figure()\n",
    "plt.plot(data.snwp, data.pc, 'b-o')\n",
    "plt.xlabel('Capillary Pressure [Pa]')\n",
    "plt.ylabel('Non-Wetting Phase Saturation')"
   ]
  },
  {
   "cell_type": "markdown",
   "metadata": {},
   "source": [
    "#### Invasion percolation with trapping"
   ]
  },
  {
   "cell_type": "code",
   "execution_count": 4,
   "metadata": {},
   "outputs": [
    {
     "data": {
      "text/plain": [
       "<matplotlib.legend.Legend at 0x7f8ecc3ca220>"
      ]
     },
     "execution_count": 4,
     "metadata": {},
     "output_type": "execute_result"
    },
    {
     "data": {
      "image/png": "[encoded data removed]",
      "text/plain": [
       "<Figure size 640x480 with 1 Axes>"
      ]
     },
     "metadata": {},
     "output_type": "display_data"
    }
   ],
   "source": [
    "#%% plot the intrusion curve with trapping\n",
    "ip.set_outlet_BC(pores=pn.pores('right'),mode='overwrite')\n",
    "ip.apply_trapping()\n",
    "data2 = ip.pc_curve()\n",
    "f = plt.figure()\n",
    "plt.plot(data.snwp, data.pc, 'b-o',label='without trapping')\n",
    "plt.plot(data2.snwp, data2.pc, 'r-o',label='with trapping')\n",
    "plt.xlabel('Capillary Pressure [Pa]')\n",
    "plt.ylabel('Non-Wetting Phase Saturation')\n",
    "plt.legend()"
   ]
  }
 ],
 "metadata": {
  "kernelspec": {
   "display_name": "Python 3.9.12 ('pnm-new')",
   "language": "python",
   "name": "python3"
  },
  "language_info": {
   "codemirror_mode": {
    "name": "ipython",
    "version": 3
   },
   "file_extension": ".py",
   "mimetype": "text/x-python",
   "name": "python",
   "nbconvert_exporter": "python",
   "pygments_lexer": "ipython3",
   "version": "3.9.12"
  },
  "orig_nbformat": 4,
  "vscode": {
   "interpreter": {
    "hash": "769950f749cf263e04e34dc3f2141dd64b68c6436fc98dadab253467171bd3e2"
   }
  }
 },
 "nbformat": 4,
 "nbformat_minor": 2
}
