{
 "cells": [
  {
   "cell_type": "code",
   "execution_count": 3,
   "metadata": {},
   "outputs": [
    {
     "data": {
      "application/vnd.jupyter.widget-view+json": {
       "model_id": "ffa19d1999cb4120a8fcc72781365f30",
       "version_major": 2,
       "version_minor": 0
      },
      "text/plain": [
       "0it [00:00, ?it/s]"
      ]
     },
     "metadata": {},
     "output_type": "display_data"
    },
    {
     "data": {
      "application/vnd.jupyter.widget-view+json": {
       "model_id": "901e99a34bdf4f38a3df77c79f6c2e94",
       "version_major": 2,
       "version_minor": 0
      },
      "text/plain": [
       "0it [00:00, ?it/s]"
      ]
     },
     "metadata": {},
     "output_type": "display_data"
    },
    {
     "data": {
      "application/vnd.jupyter.widget-view+json": {
       "model_id": "a190caf4da994f6994e350eec6e7e3c0",
       "version_major": 2,
       "version_minor": 0
      },
      "text/plain": [
       "0it [00:00, ?it/s]"
      ]
     },
     "metadata": {},
     "output_type": "display_data"
    },
    {
     "data": {
      "application/vnd.jupyter.widget-view+json": {
       "model_id": "2bb6ccbb24124a468ca06d47d88b7b63",
       "version_major": 2,
       "version_minor": 0
      },
      "text/plain": [
       "0it [00:00, ?it/s]"
      ]
     },
     "metadata": {},
     "output_type": "display_data"
    },
    {
     "data": {
      "application/vnd.jupyter.widget-view+json": {
       "model_id": "ffb8fb6af6674bfb976c01b7a687e956",
       "version_major": 2,
       "version_minor": 0
      },
      "text/plain": [
       "0it [00:00, ?it/s]"
      ]
     },
     "metadata": {},
     "output_type": "display_data"
    },
    {
     "data": {
      "application/vnd.jupyter.widget-view+json": {
       "model_id": "7bf1674f4a204a2fa2d0683c63348746",
       "version_major": 2,
       "version_minor": 0
      },
      "text/plain": [
       "0it [00:00, ?it/s]"
      ]
     },
     "metadata": {},
     "output_type": "display_data"
    },
    {
     "data": {
      "application/vnd.jupyter.widget-view+json": {
       "model_id": "c548145eb548454aadf0b61534b3eb18",
       "version_major": 2,
       "version_minor": 0
      },
      "text/plain": [
       "0it [00:00, ?it/s]"
      ]
     },
     "metadata": {},
     "output_type": "display_data"
    },
    {
     "data": {
      "application/vnd.jupyter.widget-view+json": {
       "model_id": "8fb306d08d934922bffa0d5515664219",
       "version_major": 2,
       "version_minor": 0
      },
      "text/plain": [
       "0it [00:00, ?it/s]"
      ]
     },
     "metadata": {},
     "output_type": "display_data"
    },
    {
     "data": {
      "application/vnd.jupyter.widget-view+json": {
       "model_id": "ffa14a15afdd4c61801552cc25b5cecb",
       "version_major": 2,
       "version_minor": 0
      },
      "text/plain": [
       "0it [00:00, ?it/s]"
      ]
     },
     "metadata": {},
     "output_type": "display_data"
    },
    {
     "data": {
      "application/vnd.jupyter.widget-view+json": {
       "model_id": "03924ba2a1374fae918478e1d596bc66",
       "version_major": 2,
       "version_minor": 0
      },
      "text/plain": [
       "0it [00:00, ?it/s]"
      ]
     },
     "metadata": {},
     "output_type": "display_data"
    },
    {
     "data": {
      "application/vnd.jupyter.widget-view+json": {
       "model_id": "641dacabe61742b7b160648883335faa",
       "version_major": 2,
       "version_minor": 0
      },
      "text/plain": [
       "0it [00:00, ?it/s]"
      ]
     },
     "metadata": {},
     "output_type": "display_data"
    },
    {
     "data": {
      "application/vnd.jupyter.widget-view+json": {
       "model_id": "2e5a92be4c9749e5acce88bf63921726",
       "version_major": 2,
       "version_minor": 0
      },
      "text/plain": [
       "0it [00:00, ?it/s]"
      ]
     },
     "metadata": {},
     "output_type": "display_data"
    },
    {
     "data": {
      "application/vnd.jupyter.widget-view+json": {
       "model_id": "004eee83a6914946aed5ab764cb1d4af",
       "version_major": 2,
       "version_minor": 0
      },
      "text/plain": [
       "0it [00:00, ?it/s]"
      ]
     },
     "metadata": {},
     "output_type": "display_data"
    },
    {
     "data": {
      "application/vnd.jupyter.widget-view+json": {
       "model_id": "e8d543ed069642daa4d8a61fc630cd04",
       "version_major": 2,
       "version_minor": 0
      },
      "text/plain": [
       "0it [00:00, ?it/s]"
      ]
     },
     "metadata": {},
     "output_type": "display_data"
    },
    {
     "data": {
      "application/vnd.jupyter.widget-view+json": {
       "model_id": "dadfc7c2bcc048248aacc39c50cdad5d",
       "version_major": 2,
       "version_minor": 0
      },
      "text/plain": [
       "0it [00:00, ?it/s]"
      ]
     },
     "metadata": {},
     "output_type": "display_data"
    },
    {
     "data": {
      "application/vnd.jupyter.widget-view+json": {
       "model_id": "d62183045c5f4dfc9a1d4546dcf8606d",
       "version_major": 2,
       "version_minor": 0
      },
      "text/plain": [
       "0it [00:00, ?it/s]"
      ]
     },
     "metadata": {},
     "output_type": "display_data"
    },
    {
     "data": {
      "application/vnd.jupyter.widget-view+json": {
       "model_id": "8e18abbfa694499280d78d7dddfbd30d",
       "version_major": 2,
       "version_minor": 0
      },
      "text/plain": [
       "Extracting pore and throat properties:   0%|          | 0/764 [00:00<?, ?it/s]"
      ]
     },
     "metadata": {},
     "output_type": "display_data"
    }
   ],
   "source": [
    "import numpy as np\n",
    "import porespy as ps\n",
    "import openpnm as op\n",
    "import matplotlib.pyplot as plt\n",
    "import random\n",
    "import warnings\n",
    "from skimage.measure import euler_number\n",
    "\n",
    "warnings.filterwarnings('ignore')\n",
    "\n",
    "np.random.seed(0)\n",
    "im = np.load('1.npy')\n",
    "resolution = 2.32e-06\n",
    "snow = ps.networks.snow2(\n",
    "    phases=im,\n",
    "    phase_alias={True:\"void\",False:\"solid\"},\n",
    "    voxel_size=resolution)\n",
    "\n",
    "ws = op.Workspace()\n",
    "pn = op.io.network_from_porespy(snow.network)\n",
    "pn.add_model_collection(op.models.collections.geometry.spheres_and_cylinders)\n",
    "pn.regenerate_models()\n",
    "proj = pn.project\n",
    "\n",
    "# add boundary pores\n",
    "# min_coor = pn['pore.coords'].min()\n",
    "# max_coor = pn['pore.coords'].max()\n",
    "\n",
    "# def marker_arr(min_value,max_value,boundary='left'):\n",
    "\n",
    "#     if boundary == 'left':\n",
    "#         marker = [\n",
    "#                 min_value,\n",
    "#                 random.uniform(min_value,max_value),\n",
    "#                 random.uniform(min_value,max_value)\n",
    "#                 ]\n",
    "\n",
    "#     if boundary == \"right\":\n",
    "#         marker = [\n",
    "#         max_value,\n",
    "#         random.uniform(min_value,max_value),\n",
    "#         random.uniform(min_value,max_value)\n",
    "#         ]\n",
    "    \n",
    "#     return marker\n",
    "\n",
    "\n",
    "# left_marker = [marker_arr(min_coor,max_coor) for _ in range(20)]\n",
    "# right_marker = [marker_arr(min_coor,max_coor,'right') for _ in range(20)]\n",
    "# left_marker = np.array(left_marker)\n",
    "# right_marker = np.array(right_marker)\n",
    "\n",
    "# op.topotools.find_surface_pores(network=pn, markers=left_marker, label='left')\n",
    "# op.topotools.find_surface_pores(network=pn, markers=right_marker, label='right')\n",
    "# # %% Invasion Percolation\n",
    "# air = op.phase.Air(network=pn,name='air')\n",
    "# air['pore.surface_tension'] = 0.072\n",
    "# air['pore.contact_angle'] = 180.0\n",
    "# air.add_model_collection(op.models.collections.phase.air)\n",
    "# air.add_model_collection(op.models.collections.physics.basic)\n",
    "# air.regenerate_models()\n",
    "# water = op.phase.Water(network=pn,name='water')\n",
    "# water.add_model_collection(op.models.collections.phase.water)\n",
    "# water.add_model_collection(op.models.collections.physics.basic)\n",
    "# water.regenerate_models()\n",
    "\n",
    "# ip = op.algorithms.InvasionPercolation(network=pn, phase=air)\n",
    "# Finlets_init = pn.pores('left')\n",
    "# Finlets=([Finlets_init[x] for x in range(0, len(Finlets_init), 2)])\n",
    "# ip.set_inlet_BC(pores=Finlets)\n",
    "# ip.run()"
   ]
  },
  {
   "cell_type": "code",
   "execution_count": 4,
   "metadata": {},
   "outputs": [
    {
     "name": "stdout",
     "output_type": "stream",
     "text": [
      "══════════════════════════════════════════════════════════════════════════════\n",
      "Object Name : Object Class and ID\n",
      "――――――――――――――――――――――――――――――――――――――――――――――――――――――――――――――――――――――――――――――\n",
      "net : <openpnm.network.Network at 0x7fd8e02295e0>\n",
      "――――――――――――――――――――――――――――――――――――――――――――――――――――――――――――――――――――――――――――――\n"
     ]
    }
   ],
   "source": [
    "print(proj)"
   ]
  },
  {
   "cell_type": "code",
   "execution_count": 5,
   "metadata": {},
   "outputs": [
    {
     "data": {
      "text/plain": [
       "net : <openpnm.network.Network at 0x7fd8e02295e0>"
      ]
     },
     "execution_count": 5,
     "metadata": {},
     "output_type": "execute_result"
    }
   ],
   "source": [
    "pn"
   ]
  },
  {
   "cell_type": "code",
   "execution_count": 6,
   "metadata": {},
   "outputs": [
    {
     "data": {
      "text/plain": [
       "dict_keys(['throat.conns', 'pore.coords', 'pore.all', 'throat.all', 'pore.region_label', 'pore.phase', 'throat.phases', 'pore.region_volume', 'pore.equivalent_diameter', 'pore.local_peak', 'pore.global_peak', 'pore.geometric_centroid', 'throat.global_peak', 'pore.inscribed_diameter', 'pore.extended_diameter', 'throat.inscribed_diameter', 'throat.total_length', 'throat.direct_length', 'throat.perimeter', 'pore.volume', 'pore.surface_area', 'throat.cross_sectional_area', 'throat.equivalent_diameter', 'pore.boundary', 'pore.xmin', 'pore.xmax', 'pore.ymin', 'pore.ymax', 'pore.zmin', 'pore.zmax', 'pore.coordination_number', 'pore.max_size', 'throat.spacing', 'pore.seed', 'pore.diameter', 'throat.max_size', 'throat.diameter', 'throat.hydraulic_size_factors', 'throat.diffusive_size_factors', 'throat.lens_volume', 'throat.length', 'throat.total_volume', 'throat.volume'])"
      ]
     },
     "execution_count": 6,
     "metadata": {},
     "output_type": "execute_result"
    }
   ],
   "source": [
    "pn.keys()"
   ]
  },
  {
   "cell_type": "code",
   "execution_count": null,
   "metadata": {},
   "outputs": [],
   "source": []
  }
 ],
 "metadata": {
  "kernelspec": {
   "display_name": "pnm-test",
   "language": "python",
   "name": "python3"
  },
  "language_info": {
   "codemirror_mode": {
    "name": "ipython",
    "version": 3
   },
   "file_extension": ".py",
   "mimetype": "text/x-python",
   "name": "python",
   "nbconvert_exporter": "python",
   "pygments_lexer": "ipython3",
   "version": "3.9.12"
  },
  "orig_nbformat": 4,
  "vscode": {
   "interpreter": {
    "hash": "9edf29f3a903fa29bffcdf51bf827173f3a3a489a20e0bde3a5285be749f00c1"
   }
  }
 },
 "nbformat": 4,
 "nbformat_minor": 2
}
