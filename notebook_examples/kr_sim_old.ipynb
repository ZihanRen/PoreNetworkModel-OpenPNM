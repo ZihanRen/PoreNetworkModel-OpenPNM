{
 "cells": [
  {
   "cell_type": "code",
   "execution_count": 4,
   "metadata": {},
   "outputs": [],
   "source": [
    "import numpy as np\n",
    "import openpnm as op\n",
    "import porespy as ps\n",
    "import matplotlib.pyplot as plt\n",
    "import pandas as pd\n",
    "import os\n",
    "from openpnm.models import physics as mods\n",
    "from scipy import stats\n",
    "from skimage.measure import euler_number"
   ]
  },
  {
   "cell_type": "code",
   "execution_count": 5,
   "metadata": {},
   "outputs": [],
   "source": [
    "\n",
    "def invasion(phase,inlets):\n",
    "    OP_1 = op.algorithms.OrdinaryPercolation(network=pn,phase=phase)\n",
    "    OP_1.set_inlets(pores=inlets)\n",
    "    OP_1.setup(phase=air, pore_volume='pore.volume', throat_volume='throat.volume')\n",
    "    OP_1.run(points=100)\n",
    "    return OP_1\n",
    "\n",
    "def network_extract(im,resolution):\n",
    "\n",
    "    snow = ps.networks.snow(\n",
    "    im=im,\n",
    "    voxel_size=resolution)\n",
    "\n",
    "    proj = op.io.PoreSpy.import_data(snow)\n",
    "\n",
    "    return proj\n",
    "\n",
    "\n",
    "def update_phase_and_phys_water(results):\n",
    "    # convert results to boolean matrix\n",
    "    results['pore.occupancy'] = results['pore.occupancy'].astype(int) > 0\n",
    "    results['throat.occupancy'] = results['throat.occupancy'].astype(int) > 0\n",
    "    val = np.amin(phys_water['throat.hydraulic_conductance'])/1000\n",
    "\n",
    "    # results: pore and throats occupancy\n",
    "    air.update(results)\n",
    "    # if stokes flow of water, we need to update phys_water hydraulic conductance.\n",
    "    #  The percoaltion result is always refering to air since this is phase we we are using to invade\n",
    "    # Therefore, locations where water hydraulic conductance is slow indicate gas saturated\n",
    "    phys_water['throat.hydraulic_conductance'][air['throat.occupancy']] = val\n",
    "\n",
    "def update_phase_and_phys_air(results):\n",
    "    val = np.amin(phys_water['throat.hydraulic_conductance'])/1000\n",
    "\n",
    "    results['pore.occupancy'] = results['pore.occupancy'].astype(int) > 0\n",
    "    results['throat.occupancy'] = results['throat.occupancy'].astype(int) > 0\n",
    "    # results: pore and throats occupancy\n",
    "    air.update(results)\n",
    "    # if stokes flow of air, we need to update phys_air hydraulic conductance.\n",
    "    # Therefore, locations where air hydraulic conductance is slow indicate water saturated\n",
    "    phys_air['throat.hydraulic_conductance'][~air['throat.occupancy']] = val\n",
    "\n",
    "\n",
    "def cal_absolute_perm(image_size,resolution,Q):\n",
    "    A = (image_size*image_size) *resolution**2 # m^2\n",
    "    L = image_size * resolution # m\n",
    "    mu = water['pore.viscosity'].max() # N s/m^2 or Pa s\n",
    "    delta_P = 1 # 1-0\n",
    "    K = Q * L * mu / (A * delta_P)\n",
    "    return K/0.98e-12*1000\n",
    "\n",
    "def cal_eff_perm(image_size,resolution,Q,phase):\n",
    "    A = (image_size*image_size) *resolution**2\n",
    "    L = image_size * resolution\n",
    "    mu = phase['pore.viscosity'].max() # N s/m^2 or Pa s\n",
    "    delta_P = 1\n",
    "    K = Q * L * mu / (A * delta_P)\n",
    "\n",
    "    return K/0.98e-12*1000"
   ]
  },
  {
   "cell_type": "code",
   "execution_count": 3,
   "metadata": {},
   "outputs": [
    {
     "name": "stdout",
     "output_type": "stream",
     "text": [
      "------------------------------------------------------------\n",
      "Beginning SNOW Algorithm\n",
      "Converting supplied image (im) to boolean\n",
      "Peforming Distance Transform\n",
      "Applying Gaussian blur with sigma = 0.4\n",
      "Initial number of peaks:  249\n",
      "Peaks after trimming saddle points:  143\n",
      "Peaks after trimming nearby peaks:  143\n",
      "------------------------------------------------------------\n",
      "Extracting pore and throat information from image\n",
      "100%|██████████| 243/243 [00:01<00:00, 209.73it/s]\n"
     ]
    }
   ],
   "source": [
    "ws = op.Workspace()\n",
    "np.random.seed(10)\n",
    "np.set_printoptions(precision=4)\n",
    "resolution = 2.32e-06\n",
    "im_shape = 128\n",
    "# initialization\n",
    "inlet = 'left'\n",
    "outlet = 'right'\n",
    "resolution = 2.25e-6 \n",
    "im = np.load('1.npy')\n",
    "snow = ps.networks.snow(\n",
    "im=im,\n",
    "voxel_size=resolution)\n",
    "\n",
    "proj = op.io.PoreSpy.import_data(snow)\n",
    "pn,geo = proj[0],proj[1]\n",
    "data_tmp = {}\n",
    "\n",
    "data_tmp['coordination'] = np.mean(pn.num_neighbors(pn.Ps))\n",
    "data_tmp['porosity'] = ps.metrics.porosity(im)\n",
    "data_tmp['pore.diameter'] = np.mean(geo['pore.diameter'])\n",
    "data_tmp['throat.diameter'] = np.mean(geo['throat.diameter'])\n",
    "data_tmp['euler'] = euler_number(im,connectivity=3)\n",
    "\n",
    "health = pn.check_network_health()\n",
    "op.topotools.trim(network=pn, pores=health['trim_pores'])"
   ]
  },
  {
   "cell_type": "code",
   "execution_count": 5,
   "metadata": {},
   "outputs": [
    {
     "name": "stderr",
     "output_type": "stream",
     "text": [
      "------------------------------------------------------------\n",
      "WARNING    : Inlets have non-zero volume, percolation curve won't start at 0. \n",
      "SOURCE     : openpnm.algorithms.OrdinaryPercolation.get_intrusion_data \n",
      "TIME STAMP : 2023-03-12 11:21:50,271\n",
      "------------------------------------------------------------\n"
     ]
    }
   ],
   "source": [
    "if ( (len(pn.pores('top')) > 0) & (len(pn.pores('bottom')) > 0) ):\n",
    "    inlet = 'top'\n",
    "    outlet = 'bottom'\n",
    "\n",
    "elif ( (len(pn.pores('left')) > 0) & (len(pn.pores('right')) > 0) ):\n",
    "    inlet = 'left'\n",
    "    outlet = 'right'\n",
    "\n",
    "elif ( (len(pn.pores('front')) > 0) & (len(pn.pores('back')) > 0) ):\n",
    "    inlet = 'front'\n",
    "    outlet = 'back'\n",
    "else:\n",
    "    print('Condition not satisfied')\n",
    "\n",
    "inlets = pn.pores(inlet)\n",
    "outlets = pn.pores(outlet)\n",
    "\n",
    "# define phase and physics\n",
    "air = op.phases.Air(network=pn)\n",
    "water = op.phases.Water(network=pn)\n",
    "water['pore.contact_angle'] = 0\n",
    "air['pore.contact_angle'] = 180\n",
    "phys_air = op.physics.Standard(network=pn, phase=air, geometry=geo)\n",
    "phys_water = op.physics.Standard(network=pn, phase=water, geometry=geo)\n",
    "\n",
    "# perform invasion flow simulation\n",
    "OP_1=invasion(air,inlets)\n",
    "data = OP_1.get_intrusion_data()\n",
    "sw = [1-x for x in data.Snwp]\n",
    "snw = data.Snwp"
   ]
  },
  {
   "cell_type": "code",
   "execution_count": 7,
   "metadata": {},
   "outputs": [],
   "source": [
    "phys_water.regenerate_models()\n",
    "st = op.algorithms.StokesFlow(network=pn)\n",
    "st.setup(phase=water)\n",
    "st.set_value_BC(pores=inlets, values=0)\n",
    "st.set_value_BC(pores=outlets, values=1) # this part needs some validation\n",
    "st.run()\n",
    "Q_abs_water = st.rate(pores=outlets,mode='group')\n",
    "kabs_tmp = cal_absolute_perm(im_shape,resolution,Q_abs_water[0])\n",
    "phys_water.regenerate_models()"
   ]
  },
  {
   "cell_type": "code",
   "execution_count": 9,
   "metadata": {},
   "outputs": [],
   "source": [
    "kw_tmp = []\n",
    "phys_water.regenerate_models()\n",
    "for Pc in data.Pcap:\n",
    "    update_phase_and_phys_water(OP_1.results(Pc=Pc))\n",
    "    st = op.algorithms.StokesFlow(network=pn)\n",
    "    st.setup(phase=water)\n",
    "    st.set_value_BC(pores=inlets, values=0)\n",
    "    st.set_value_BC(pores=outlets, values=1)\n",
    "    st.run()\n",
    "    Q = st.rate(pores=outlets,mode='group')[0]\n",
    "    keff = cal_eff_perm(im_shape,resolution,Q,water)\n",
    "    kw_tmp.append(keff)\n",
    "    proj.purge_object(obj=st)\n",
    "    phys_water.regenerate_models()\n",
    "\n",
    "# simulation of air\n",
    "knw_tmp = []\n",
    "phys_air.regenerate_models()\n",
    "for Pc in data.Pcap:\n",
    "    update_phase_and_phys_air(OP_1.results(Pc=Pc))\n",
    "    st = op.algorithms.StokesFlow(network=pn)\n",
    "    st.setup(phase=air)\n",
    "    st.set_value_BC(pores=inlets, values=0)\n",
    "    st.set_value_BC(pores=outlets, values=1)\n",
    "    st.run()\n",
    "    Q = st.rate(pores=outlets,mode='group')[0]\n",
    "    keff = cal_eff_perm(im_shape,resolution,Q,air)\n",
    "    knw_tmp.append(keff)\n",
    "    proj.purge_object(obj=st)\n",
    "    phys_air.regenerate_models()"
   ]
  },
  {
   "cell_type": "code",
   "execution_count": 10,
   "metadata": {},
   "outputs": [],
   "source": [
    "krw_tmp = np.array(kw_tmp)/kabs_tmp\n",
    "krnw_tmp = np.array(knw_tmp)/kabs_tmp\n",
    "data_tmp['kr_water'] = krw_tmp\n",
    "data_tmp['kr_air'] = krnw_tmp\n",
    "data_tmp['k_water'] = np.array(kw_tmp)\n",
    "data_tmp['k_air'] = np.array(krnw_tmp)\n",
    "data_tmp['kabs'] = kabs_tmp\n",
    "data_tmp['snw'] = np.array(snw)\n",
    "data_tmp['sw'] = np.array(sw)"
   ]
  },
  {
   "cell_type": "code",
   "execution_count": 12,
   "metadata": {},
   "outputs": [
    {
     "data": {
      "text/plain": [
       "[<matplotlib.lines.Line2D at 0x7ff81d894880>]"
      ]
     },
     "execution_count": 12,
     "metadata": {},
     "output_type": "execute_result"
    },
    {
     "data": {
      "image/png": "[encoded data removed]",
      "text/plain": [
       "<Figure size 640x480 with 1 Axes>"
      ]
     },
     "metadata": {},
     "output_type": "display_data"
    }
   ],
   "source": [
    "plt.plot(data_tmp['snw'],data_tmp['kr_air'],'r*')\n",
    "plt.plot(data_tmp['snw'],data_tmp['kr_water'],'b*')"
   ]
  },
  {
   "cell_type": "code",
   "execution_count": null,
   "metadata": {},
   "outputs": [],
   "source": []
  }
 ],
 "metadata": {
  "kernelspec": {
   "display_name": "pnm-old",
   "language": "python",
   "name": "python3"
  },
  "language_info": {
   "codemirror_mode": {
    "name": "ipython",
    "version": 3
   },
   "file_extension": ".py",
   "mimetype": "text/x-python",
   "name": "python",
   "nbconvert_exporter": "python",
   "pygments_lexer": "ipython3",
   "version": "3.9.12"
  },
  "orig_nbformat": 4
 },
 "nbformat": 4,
 "nbformat_minor": 2
}
