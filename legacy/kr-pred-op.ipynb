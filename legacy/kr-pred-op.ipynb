{
 "cells": [
  {
   "cell_type": "code",
   "execution_count": 3,
   "metadata": {},
   "outputs": [
    {
     "ename": "ImportError",
     "evalue": "IProgress not found. Please update jupyter and ipywidgets. See https://ipywidgets.readthedocs.io/en/stable/user_install.html",
     "output_type": "error",
     "traceback": [
      "\u001b[0;31m---------------------------------------------------------------------------\u001b[0m",
      "\u001b[0;31mImportError\u001b[0m                               Traceback (most recent call last)",
      "Cell \u001b[0;32mIn [3], line 25\u001b[0m\n\u001b[1;32m     20\u001b[0m im \u001b[38;5;241m=\u001b[39m np\u001b[38;5;241m.\u001b[39mload(\u001b[38;5;124m'\u001b[39m\u001b[38;5;124m1.npy\u001b[39m\u001b[38;5;124m'\u001b[39m)\n\u001b[1;32m     21\u001b[0m \u001b[38;5;66;03m# raw_file = np.fromfile('Berea_2d25um_binary.raw', dtype=np.uint8)\u001b[39;00m\n\u001b[1;32m     22\u001b[0m \u001b[38;5;66;03m# im = (raw_file.reshape(1000,1000,1000))\u001b[39;00m\n\u001b[1;32m     23\u001b[0m \n\u001b[1;32m     24\u001b[0m \u001b[38;5;66;03m# running snow algorithm to extract pore geometry information from network\u001b[39;00m\n\u001b[0;32m---> 25\u001b[0m snow \u001b[38;5;241m=\u001b[39m \u001b[43mps\u001b[49m\u001b[38;5;241;43m.\u001b[39;49m\u001b[43mnetworks\u001b[49m\u001b[38;5;241;43m.\u001b[39;49m\u001b[43msnow2\u001b[49m\u001b[43m(\u001b[49m\n\u001b[1;32m     26\u001b[0m \u001b[43m    \u001b[49m\u001b[43mim\u001b[49m\u001b[43m,\u001b[49m\n\u001b[1;32m     27\u001b[0m \u001b[43m    \u001b[49m\u001b[43mvoxel_size\u001b[49m\u001b[38;5;241;43m=\u001b[39;49m\u001b[38;5;241;43m2.32e-06\u001b[39;49m\u001b[43m)\u001b[49m\n\u001b[1;32m     29\u001b[0m \u001b[38;5;66;03m# extracting network and geometry from snow simulation results\u001b[39;00m\n\u001b[1;32m     30\u001b[0m proj \u001b[38;5;241m=\u001b[39m op\u001b[38;5;241m.\u001b[39mio\u001b[38;5;241m.\u001b[39mPoreSpy\u001b[38;5;241m.\u001b[39mimport_data(snow)\n",
      "File \u001b[0;32m/journel/s0/zur74/venv/pnm-new/lib/python3.9/site-packages/porespy/networks/_snow2.py:164\u001b[0m, in \u001b[0;36msnow2\u001b[0;34m(phases, phase_alias, boundary_width, accuracy, voxel_size, sigma, r_max, peaks, parallelization)\u001b[0m\n\u001b[1;32m    162\u001b[0m pk \u001b[39m=\u001b[39m \u001b[39mNone\u001b[39;00m \u001b[39mif\u001b[39;00m peaks \u001b[39mis\u001b[39;00m \u001b[39mNone\u001b[39;00m \u001b[39melse\u001b[39;00m peaks\u001b[39m*\u001b[39mphase\n\u001b[1;32m    163\u001b[0m \u001b[39mif\u001b[39;00m parallelization \u001b[39mis\u001b[39;00m \u001b[39mnot\u001b[39;00m \u001b[39mNone\u001b[39;00m:\n\u001b[0;32m--> 164\u001b[0m     snow \u001b[39m=\u001b[39m snow_partitioning_parallel(\n\u001b[1;32m    165\u001b[0m         im\u001b[39m=\u001b[39;49mphase, sigma\u001b[39m=\u001b[39;49msigma, r_max\u001b[39m=\u001b[39;49mr_max, \u001b[39m*\u001b[39;49m\u001b[39m*\u001b[39;49mparallelization)\n\u001b[1;32m    166\u001b[0m \u001b[39melse\u001b[39;00m:\n\u001b[1;32m    167\u001b[0m     snow \u001b[39m=\u001b[39m snow_partitioning(im\u001b[39m=\u001b[39mphase, sigma\u001b[39m=\u001b[39msigma, r_max\u001b[39m=\u001b[39mr_max,\n\u001b[1;32m    168\u001b[0m                              peaks\u001b[39m=\u001b[39mpk)\n",
      "File \u001b[0;32m/journel/s0/zur74/venv/pnm-new/lib/python3.9/site-packages/porespy/filters/_snows.py:686\u001b[0m, in \u001b[0;36msnow_partitioning_parallel\u001b[0;34m(im, r_max, sigma, divs, overlap, cores)\u001b[0m\n\u001b[1;32m    684\u001b[0m \u001b[39m# TODO: use dask ProgressBar once compatible w/ logging.\u001b[39;00m\n\u001b[1;32m    685\u001b[0m logger\u001b[39m.\u001b[39mtrace(\u001b[39m'\u001b[39m\u001b[39mApplying snow to image chunks\u001b[39m\u001b[39m'\u001b[39m)\n\u001b[0;32m--> 686\u001b[0m regions \u001b[39m=\u001b[39m regions\u001b[39m.\u001b[39;49mcompute(num_workers\u001b[39m=\u001b[39;49mcores)\n\u001b[1;32m    688\u001b[0m \u001b[39m# Relabelling watershed chunks\u001b[39;00m\n\u001b[1;32m    689\u001b[0m logger\u001b[39m.\u001b[39mtrace(\u001b[39m'\u001b[39m\u001b[39mRelabelling watershed chunks\u001b[39m\u001b[39m'\u001b[39m)\n",
      "File \u001b[0;32m/journel/s0/zur74/venv/pnm-new/lib/python3.9/site-packages/dask/base.py:315\u001b[0m, in \u001b[0;36mDaskMethodsMixin.compute\u001b[0;34m(self, **kwargs)\u001b[0m\n\u001b[1;32m    291\u001b[0m \u001b[39mdef\u001b[39;00m \u001b[39mcompute\u001b[39m(\u001b[39mself\u001b[39m, \u001b[39m*\u001b[39m\u001b[39m*\u001b[39mkwargs):\n\u001b[1;32m    292\u001b[0m     \u001b[39m\"\"\"Compute this dask collection\u001b[39;00m\n\u001b[1;32m    293\u001b[0m \n\u001b[1;32m    294\u001b[0m \u001b[39m    This turns a lazy Dask collection into its in-memory equivalent.\u001b[39;00m\n\u001b[0;32m   (...)\u001b[0m\n\u001b[1;32m    313\u001b[0m \u001b[39m    dask.base.compute\u001b[39;00m\n\u001b[1;32m    314\u001b[0m \u001b[39m    \"\"\"\u001b[39;00m\n\u001b[0;32m--> 315\u001b[0m     (result,) \u001b[39m=\u001b[39m compute(\u001b[39mself\u001b[39;49m, traverse\u001b[39m=\u001b[39;49m\u001b[39mFalse\u001b[39;49;00m, \u001b[39m*\u001b[39;49m\u001b[39m*\u001b[39;49mkwargs)\n\u001b[1;32m    316\u001b[0m     \u001b[39mreturn\u001b[39;00m result\n",
      "File \u001b[0;32m/journel/s0/zur74/venv/pnm-new/lib/python3.9/site-packages/dask/base.py:600\u001b[0m, in \u001b[0;36mcompute\u001b[0;34m(traverse, optimize_graph, scheduler, get, *args, **kwargs)\u001b[0m\n\u001b[1;32m    597\u001b[0m     keys\u001b[39m.\u001b[39mappend(x\u001b[39m.\u001b[39m__dask_keys__())\n\u001b[1;32m    598\u001b[0m     postcomputes\u001b[39m.\u001b[39mappend(x\u001b[39m.\u001b[39m__dask_postcompute__())\n\u001b[0;32m--> 600\u001b[0m results \u001b[39m=\u001b[39m schedule(dsk, keys, \u001b[39m*\u001b[39;49m\u001b[39m*\u001b[39;49mkwargs)\n\u001b[1;32m    601\u001b[0m \u001b[39mreturn\u001b[39;00m repack([f(r, \u001b[39m*\u001b[39ma) \u001b[39mfor\u001b[39;00m r, (f, a) \u001b[39min\u001b[39;00m \u001b[39mzip\u001b[39m(results, postcomputes)])\n",
      "File \u001b[0;32m/journel/s0/zur74/venv/pnm-new/lib/python3.9/site-packages/dask/threaded.py:89\u001b[0m, in \u001b[0;36mget\u001b[0;34m(dsk, keys, cache, num_workers, pool, **kwargs)\u001b[0m\n\u001b[1;32m     86\u001b[0m     \u001b[39melif\u001b[39;00m \u001b[39misinstance\u001b[39m(pool, multiprocessing\u001b[39m.\u001b[39mpool\u001b[39m.\u001b[39mPool):\n\u001b[1;32m     87\u001b[0m         pool \u001b[39m=\u001b[39m MultiprocessingPoolExecutor(pool)\n\u001b[0;32m---> 89\u001b[0m results \u001b[39m=\u001b[39m get_async(\n\u001b[1;32m     90\u001b[0m     pool\u001b[39m.\u001b[39;49msubmit,\n\u001b[1;32m     91\u001b[0m     pool\u001b[39m.\u001b[39;49m_max_workers,\n\u001b[1;32m     92\u001b[0m     dsk,\n\u001b[1;32m     93\u001b[0m     keys,\n\u001b[1;32m     94\u001b[0m     cache\u001b[39m=\u001b[39;49mcache,\n\u001b[1;32m     95\u001b[0m     get_id\u001b[39m=\u001b[39;49m_thread_get_id,\n\u001b[1;32m     96\u001b[0m     pack_exception\u001b[39m=\u001b[39;49mpack_exception,\n\u001b[1;32m     97\u001b[0m     \u001b[39m*\u001b[39;49m\u001b[39m*\u001b[39;49mkwargs,\n\u001b[1;32m     98\u001b[0m )\n\u001b[1;32m    100\u001b[0m \u001b[39m# Cleanup pools associated to dead threads\u001b[39;00m\n\u001b[1;32m    101\u001b[0m \u001b[39mwith\u001b[39;00m pools_lock:\n",
      "File \u001b[0;32m/journel/s0/zur74/venv/pnm-new/lib/python3.9/site-packages/dask/local.py:511\u001b[0m, in \u001b[0;36mget_async\u001b[0;34m(submit, num_workers, dsk, result, cache, get_id, rerun_exceptions_locally, pack_exception, raise_exception, callbacks, dumps, loads, chunksize, **kwargs)\u001b[0m\n\u001b[1;32m    509\u001b[0m         _execute_task(task, data)  \u001b[39m# Re-execute locally\u001b[39;00m\n\u001b[1;32m    510\u001b[0m     \u001b[39melse\u001b[39;00m:\n\u001b[0;32m--> 511\u001b[0m         raise_exception(exc, tb)\n\u001b[1;32m    512\u001b[0m res, worker_id \u001b[39m=\u001b[39m loads(res_info)\n\u001b[1;32m    513\u001b[0m state[\u001b[39m\"\u001b[39m\u001b[39mcache\u001b[39m\u001b[39m\"\u001b[39m][key] \u001b[39m=\u001b[39m res\n",
      "File \u001b[0;32m/journel/s0/zur74/venv/pnm-new/lib/python3.9/site-packages/dask/local.py:319\u001b[0m, in \u001b[0;36mreraise\u001b[0;34m(exc, tb)\u001b[0m\n\u001b[1;32m    317\u001b[0m \u001b[39mif\u001b[39;00m exc\u001b[39m.\u001b[39m__traceback__ \u001b[39mis\u001b[39;00m \u001b[39mnot\u001b[39;00m tb:\n\u001b[1;32m    318\u001b[0m     \u001b[39mraise\u001b[39;00m exc\u001b[39m.\u001b[39mwith_traceback(tb)\n\u001b[0;32m--> 319\u001b[0m \u001b[39mraise\u001b[39;00m exc\n",
      "File \u001b[0;32m/journel/s0/zur74/venv/pnm-new/lib/python3.9/site-packages/dask/local.py:224\u001b[0m, in \u001b[0;36mexecute_task\u001b[0;34m(key, task_info, dumps, loads, get_id, pack_exception)\u001b[0m\n\u001b[1;32m    222\u001b[0m \u001b[39mtry\u001b[39;00m:\n\u001b[1;32m    223\u001b[0m     task, data \u001b[39m=\u001b[39m loads(task_info)\n\u001b[0;32m--> 224\u001b[0m     result \u001b[39m=\u001b[39m _execute_task(task, data)\n\u001b[1;32m    225\u001b[0m     \u001b[39mid\u001b[39m \u001b[39m=\u001b[39m get_id()\n\u001b[1;32m    226\u001b[0m     result \u001b[39m=\u001b[39m dumps((result, \u001b[39mid\u001b[39m))\n",
      "File \u001b[0;32m/journel/s0/zur74/venv/pnm-new/lib/python3.9/site-packages/dask/core.py:119\u001b[0m, in \u001b[0;36m_execute_task\u001b[0;34m(arg, cache, dsk)\u001b[0m\n\u001b[1;32m    115\u001b[0m     func, args \u001b[39m=\u001b[39m arg[\u001b[39m0\u001b[39m], arg[\u001b[39m1\u001b[39m:]\n\u001b[1;32m    116\u001b[0m     \u001b[39m# Note: Don't assign the subtask results to a variable. numpy detects\u001b[39;00m\n\u001b[1;32m    117\u001b[0m     \u001b[39m# temporaries by their reference count and can execute certain\u001b[39;00m\n\u001b[1;32m    118\u001b[0m     \u001b[39m# operations in-place.\u001b[39;00m\n\u001b[0;32m--> 119\u001b[0m     \u001b[39mreturn\u001b[39;00m func(\u001b[39m*\u001b[39;49m(_execute_task(a, cache) \u001b[39mfor\u001b[39;49;00m a \u001b[39min\u001b[39;49;00m args))\n\u001b[1;32m    120\u001b[0m \u001b[39melif\u001b[39;00m \u001b[39mnot\u001b[39;00m ishashable(arg):\n\u001b[1;32m    121\u001b[0m     \u001b[39mreturn\u001b[39;00m arg\n",
      "File \u001b[0;32m/journel/s0/zur74/venv/pnm-new/lib/python3.9/site-packages/dask/optimization.py:990\u001b[0m, in \u001b[0;36mSubgraphCallable.__call__\u001b[0;34m(self, *args)\u001b[0m\n\u001b[1;32m    988\u001b[0m \u001b[39mif\u001b[39;00m \u001b[39mnot\u001b[39;00m \u001b[39mlen\u001b[39m(args) \u001b[39m==\u001b[39m \u001b[39mlen\u001b[39m(\u001b[39mself\u001b[39m\u001b[39m.\u001b[39minkeys):\n\u001b[1;32m    989\u001b[0m     \u001b[39mraise\u001b[39;00m \u001b[39mValueError\u001b[39;00m(\u001b[39m\"\u001b[39m\u001b[39mExpected \u001b[39m\u001b[39m%d\u001b[39;00m\u001b[39m args, got \u001b[39m\u001b[39m%d\u001b[39;00m\u001b[39m\"\u001b[39m \u001b[39m%\u001b[39m (\u001b[39mlen\u001b[39m(\u001b[39mself\u001b[39m\u001b[39m.\u001b[39minkeys), \u001b[39mlen\u001b[39m(args)))\n\u001b[0;32m--> 990\u001b[0m \u001b[39mreturn\u001b[39;00m core\u001b[39m.\u001b[39;49mget(\u001b[39mself\u001b[39;49m\u001b[39m.\u001b[39;49mdsk, \u001b[39mself\u001b[39;49m\u001b[39m.\u001b[39;49moutkey, \u001b[39mdict\u001b[39;49m(\u001b[39mzip\u001b[39;49m(\u001b[39mself\u001b[39;49m\u001b[39m.\u001b[39;49minkeys, args)))\n",
      "File \u001b[0;32m/journel/s0/zur74/venv/pnm-new/lib/python3.9/site-packages/dask/core.py:149\u001b[0m, in \u001b[0;36mget\u001b[0;34m(dsk, out, cache)\u001b[0m\n\u001b[1;32m    147\u001b[0m \u001b[39mfor\u001b[39;00m key \u001b[39min\u001b[39;00m toposort(dsk):\n\u001b[1;32m    148\u001b[0m     task \u001b[39m=\u001b[39m dsk[key]\n\u001b[0;32m--> 149\u001b[0m     result \u001b[39m=\u001b[39m _execute_task(task, cache)\n\u001b[1;32m    150\u001b[0m     cache[key] \u001b[39m=\u001b[39m result\n\u001b[1;32m    151\u001b[0m result \u001b[39m=\u001b[39m _execute_task(out, cache)\n",
      "File \u001b[0;32m/journel/s0/zur74/venv/pnm-new/lib/python3.9/site-packages/dask/core.py:119\u001b[0m, in \u001b[0;36m_execute_task\u001b[0;34m(arg, cache, dsk)\u001b[0m\n\u001b[1;32m    115\u001b[0m     func, args \u001b[39m=\u001b[39m arg[\u001b[39m0\u001b[39m], arg[\u001b[39m1\u001b[39m:]\n\u001b[1;32m    116\u001b[0m     \u001b[39m# Note: Don't assign the subtask results to a variable. numpy detects\u001b[39;00m\n\u001b[1;32m    117\u001b[0m     \u001b[39m# temporaries by their reference count and can execute certain\u001b[39;00m\n\u001b[1;32m    118\u001b[0m     \u001b[39m# operations in-place.\u001b[39;00m\n\u001b[0;32m--> 119\u001b[0m     \u001b[39mreturn\u001b[39;00m func(\u001b[39m*\u001b[39;49m(_execute_task(a, cache) \u001b[39mfor\u001b[39;49;00m a \u001b[39min\u001b[39;49;00m args))\n\u001b[1;32m    120\u001b[0m \u001b[39melif\u001b[39;00m \u001b[39mnot\u001b[39;00m ishashable(arg):\n\u001b[1;32m    121\u001b[0m     \u001b[39mreturn\u001b[39;00m arg\n",
      "File \u001b[0;32m/journel/s0/zur74/venv/pnm-new/lib/python3.9/site-packages/dask/core.py:119\u001b[0m, in \u001b[0;36m<genexpr>\u001b[0;34m(.0)\u001b[0m\n\u001b[1;32m    115\u001b[0m     func, args \u001b[39m=\u001b[39m arg[\u001b[39m0\u001b[39m], arg[\u001b[39m1\u001b[39m:]\n\u001b[1;32m    116\u001b[0m     \u001b[39m# Note: Don't assign the subtask results to a variable. numpy detects\u001b[39;00m\n\u001b[1;32m    117\u001b[0m     \u001b[39m# temporaries by their reference count and can execute certain\u001b[39;00m\n\u001b[1;32m    118\u001b[0m     \u001b[39m# operations in-place.\u001b[39;00m\n\u001b[0;32m--> 119\u001b[0m     \u001b[39mreturn\u001b[39;00m func(\u001b[39m*\u001b[39m(_execute_task(a, cache) \u001b[39mfor\u001b[39;00m a \u001b[39min\u001b[39;00m args))\n\u001b[1;32m    120\u001b[0m \u001b[39melif\u001b[39;00m \u001b[39mnot\u001b[39;00m ishashable(arg):\n\u001b[1;32m    121\u001b[0m     \u001b[39mreturn\u001b[39;00m arg\n",
      "File \u001b[0;32m/journel/s0/zur74/venv/pnm-new/lib/python3.9/site-packages/dask/core.py:119\u001b[0m, in \u001b[0;36m_execute_task\u001b[0;34m(arg, cache, dsk)\u001b[0m\n\u001b[1;32m    115\u001b[0m     func, args \u001b[39m=\u001b[39m arg[\u001b[39m0\u001b[39m], arg[\u001b[39m1\u001b[39m:]\n\u001b[1;32m    116\u001b[0m     \u001b[39m# Note: Don't assign the subtask results to a variable. numpy detects\u001b[39;00m\n\u001b[1;32m    117\u001b[0m     \u001b[39m# temporaries by their reference count and can execute certain\u001b[39;00m\n\u001b[1;32m    118\u001b[0m     \u001b[39m# operations in-place.\u001b[39;00m\n\u001b[0;32m--> 119\u001b[0m     \u001b[39mreturn\u001b[39;00m func(\u001b[39m*\u001b[39;49m(_execute_task(a, cache) \u001b[39mfor\u001b[39;49;00m a \u001b[39min\u001b[39;49;00m args))\n\u001b[1;32m    120\u001b[0m \u001b[39melif\u001b[39;00m \u001b[39mnot\u001b[39;00m ishashable(arg):\n\u001b[1;32m    121\u001b[0m     \u001b[39mreturn\u001b[39;00m arg\n",
      "File \u001b[0;32m/journel/s0/zur74/venv/pnm-new/lib/python3.9/site-packages/dask/utils.py:71\u001b[0m, in \u001b[0;36mapply\u001b[0;34m(func, args, kwargs)\u001b[0m\n\u001b[1;32m     40\u001b[0m \u001b[39m\"\"\"Apply a function given its positional and keyword arguments.\u001b[39;00m\n\u001b[1;32m     41\u001b[0m \n\u001b[1;32m     42\u001b[0m \u001b[39mEquivalent to ``func(*args, **kwargs)``\u001b[39;00m\n\u001b[0;32m   (...)\u001b[0m\n\u001b[1;32m     68\u001b[0m \u001b[39m>>> dsk = {'task-name': task}  # adds the task to a low level Dask task graph\u001b[39;00m\n\u001b[1;32m     69\u001b[0m \u001b[39m\"\"\"\u001b[39;00m\n\u001b[1;32m     70\u001b[0m \u001b[39mif\u001b[39;00m kwargs:\n\u001b[0;32m---> 71\u001b[0m     \u001b[39mreturn\u001b[39;00m func(\u001b[39m*\u001b[39;49margs, \u001b[39m*\u001b[39;49m\u001b[39m*\u001b[39;49mkwargs)\n\u001b[1;32m     72\u001b[0m \u001b[39melse\u001b[39;00m:\n\u001b[1;32m     73\u001b[0m     \u001b[39mreturn\u001b[39;00m func(\u001b[39m*\u001b[39margs)\n",
      "File \u001b[0;32m/journel/s0/zur74/venv/pnm-new/lib/python3.9/site-packages/porespy/filters/_snows.py:1078\u001b[0m, in \u001b[0;36m_snow_chunked\u001b[0;34m(dt, r_max, sigma)\u001b[0m\n\u001b[1;32m   1076\u001b[0m dt2 \u001b[39m=\u001b[39m spim\u001b[39m.\u001b[39mgaussian_filter(\u001b[39minput\u001b[39m\u001b[39m=\u001b[39mdt, sigma\u001b[39m=\u001b[39msigma)\n\u001b[1;32m   1077\u001b[0m peaks \u001b[39m=\u001b[39m find_peaks(dt\u001b[39m=\u001b[39mdt2, r_max\u001b[39m=\u001b[39mr_max)\n\u001b[0;32m-> 1078\u001b[0m peaks \u001b[39m=\u001b[39m trim_saddle_points(peaks\u001b[39m=\u001b[39;49mpeaks, dt\u001b[39m=\u001b[39;49mdt)\n\u001b[1;32m   1079\u001b[0m peaks \u001b[39m=\u001b[39m trim_nearby_peaks(peaks\u001b[39m=\u001b[39mpeaks, dt\u001b[39m=\u001b[39mdt)\n\u001b[1;32m   1080\u001b[0m peaks, N \u001b[39m=\u001b[39m spim\u001b[39m.\u001b[39mlabel(peaks \u001b[39m>\u001b[39m \u001b[39m0\u001b[39m)\n",
      "File \u001b[0;32m/journel/s0/zur74/venv/pnm-new/lib/python3.9/site-packages/porespy/filters/_snows.py:398\u001b[0m, in \u001b[0;36mtrim_saddle_points\u001b[0;34m(peaks, dt, maxiter)\u001b[0m\n\u001b[1;32m    396\u001b[0m labels, N \u001b[39m=\u001b[39m spim\u001b[39m.\u001b[39mlabel(peaks \u001b[39m>\u001b[39m \u001b[39m0\u001b[39m)\n\u001b[1;32m    397\u001b[0m slices \u001b[39m=\u001b[39m spim\u001b[39m.\u001b[39mfind_objects(labels)\n\u001b[0;32m--> 398\u001b[0m \u001b[39mfor\u001b[39;00m i, s \u001b[39min\u001b[39;00m tqdm(\u001b[39menumerate\u001b[39;49m(slices), \u001b[39m*\u001b[39;49m\u001b[39m*\u001b[39;49msettings\u001b[39m.\u001b[39;49mtqdm):\n\u001b[1;32m    399\u001b[0m     sx \u001b[39m=\u001b[39m extend_slice(s, shape\u001b[39m=\u001b[39mpeaks\u001b[39m.\u001b[39mshape, pad\u001b[39m=\u001b[39mmaxiter)\n\u001b[1;32m    400\u001b[0m     peaks_i \u001b[39m=\u001b[39m labels[sx] \u001b[39m==\u001b[39m i \u001b[39m+\u001b[39m \u001b[39m1\u001b[39m\n",
      "File \u001b[0;32m/journel/s0/zur74/venv/pnm-new/lib/python3.9/site-packages/tqdm/notebook.py:243\u001b[0m, in \u001b[0;36mtqdm_notebook.__init__\u001b[0;34m(self, *args, **kwargs)\u001b[0m\n\u001b[1;32m    241\u001b[0m unit_scale \u001b[39m=\u001b[39m \u001b[39m1\u001b[39m \u001b[39mif\u001b[39;00m \u001b[39mself\u001b[39m\u001b[39m.\u001b[39munit_scale \u001b[39mis\u001b[39;00m \u001b[39mTrue\u001b[39;00m \u001b[39melse\u001b[39;00m \u001b[39mself\u001b[39m\u001b[39m.\u001b[39munit_scale \u001b[39mor\u001b[39;00m \u001b[39m1\u001b[39m\n\u001b[1;32m    242\u001b[0m total \u001b[39m=\u001b[39m \u001b[39mself\u001b[39m\u001b[39m.\u001b[39mtotal \u001b[39m*\u001b[39m unit_scale \u001b[39mif\u001b[39;00m \u001b[39mself\u001b[39m\u001b[39m.\u001b[39mtotal \u001b[39melse\u001b[39;00m \u001b[39mself\u001b[39m\u001b[39m.\u001b[39mtotal\n\u001b[0;32m--> 243\u001b[0m \u001b[39mself\u001b[39m\u001b[39m.\u001b[39mcontainer \u001b[39m=\u001b[39m \u001b[39mself\u001b[39;49m\u001b[39m.\u001b[39;49mstatus_printer(\u001b[39mself\u001b[39;49m\u001b[39m.\u001b[39;49mfp, total, \u001b[39mself\u001b[39;49m\u001b[39m.\u001b[39;49mdesc, \u001b[39mself\u001b[39;49m\u001b[39m.\u001b[39;49mncols)\n\u001b[1;32m    244\u001b[0m \u001b[39mself\u001b[39m\u001b[39m.\u001b[39mcontainer\u001b[39m.\u001b[39mpbar \u001b[39m=\u001b[39m proxy(\u001b[39mself\u001b[39m)\n\u001b[1;32m    245\u001b[0m \u001b[39mself\u001b[39m\u001b[39m.\u001b[39mdisplayed \u001b[39m=\u001b[39m \u001b[39mFalse\u001b[39;00m\n",
      "File \u001b[0;32m/journel/s0/zur74/venv/pnm-new/lib/python3.9/site-packages/tqdm/notebook.py:118\u001b[0m, in \u001b[0;36mtqdm_notebook.status_printer\u001b[0;34m(_, total, desc, ncols)\u001b[0m\n\u001b[1;32m    109\u001b[0m \u001b[39m# Fallback to text bar if there's no total\u001b[39;00m\n\u001b[1;32m    110\u001b[0m \u001b[39m# DEPRECATED: replaced with an 'info' style bar\u001b[39;00m\n\u001b[1;32m    111\u001b[0m \u001b[39m# if not total:\u001b[39;00m\n\u001b[0;32m   (...)\u001b[0m\n\u001b[1;32m    115\u001b[0m \n\u001b[1;32m    116\u001b[0m \u001b[39m# Prepare IPython progress bar\u001b[39;00m\n\u001b[1;32m    117\u001b[0m \u001b[39mif\u001b[39;00m IProgress \u001b[39mis\u001b[39;00m \u001b[39mNone\u001b[39;00m:  \u001b[39m# #187 #451 #558 #872\u001b[39;00m\n\u001b[0;32m--> 118\u001b[0m     \u001b[39mraise\u001b[39;00m \u001b[39mImportError\u001b[39;00m(WARN_NOIPYW)\n\u001b[1;32m    119\u001b[0m \u001b[39mif\u001b[39;00m total:\n\u001b[1;32m    120\u001b[0m     pbar \u001b[39m=\u001b[39m IProgress(\u001b[39mmin\u001b[39m\u001b[39m=\u001b[39m\u001b[39m0\u001b[39m, \u001b[39mmax\u001b[39m\u001b[39m=\u001b[39mtotal)\n",
      "\u001b[0;31mImportError\u001b[0m: IProgress not found. Please update jupyter and ipywidgets. See https://ipywidgets.readthedocs.io/en/stable/user_install.html"
     ]
    }
   ],
   "source": [
    "from PIL import Image\n",
    "import os\n",
    "import porespy as ps\n",
    "import numpy as np\n",
    "import matplotlib.pyplot as plt\n",
    "from skimage.measure import euler_number\n",
    "import matplotlib.pyplot as plt\n",
    "import os\n",
    "import numpy as np\n",
    "import openpnm as op\n",
    "import openpnm.models as mods\n",
    "from openpnm.models import physics as pm\n",
    "import pandas as pd\n",
    "\n",
    "np.random.seed(0)\n",
    "\n",
    "# PATH = r'C:\\Users\\rtopa\\OneDrive\\phd22\\gan\\pnm\\openpnm'\n",
    "# PATH = r'C:\\Users\\rtopa\\OneDrive\\phd22\\pnm\\openpnm'\n",
    "# os.chdir(PATH)\n",
    "im = np.load('1.npy')\n",
    "# raw_file = np.fromfile('Berea_2d25um_binary.raw', dtype=np.uint8)\n",
    "# im = (raw_file.reshape(1000,1000,1000))\n",
    "\n",
    "# running snow algorithm to extract pore geometry information from network\n",
    "snow = ps.networks.snow(\n",
    "    im,\n",
    "    voxel_size=2.32e-06)\n",
    "\n",
    "# extracting network and geometry from snow simulation results\n",
    "proj = op.io.PoreSpy.import_data(snow)\n",
    "\n",
    "pn,geo = proj[0],proj[1]\n",
    "\n",
    "# check the health of network\n",
    "health = pn.check_network_health()\n",
    "op.topotools.trim(network=pn, pores=health['trim_pores'])\n"
   ]
  },
  {
   "cell_type": "code",
   "execution_count": 5,
   "metadata": {},
   "outputs": [
    {
     "name": "stderr",
     "output_type": "stream",
     "text": [
      "------------------------------------------------------------\n",
      "WARNING    : Inlets have non-zero volume, percolation curve won't start at 0. \n",
      "SOURCE     : openpnm.algorithms.OrdinaryPercolation.get_intrusion_data \n",
      "TIME STAMP : 2022-08-13 19:44:51,269\n",
      "------------------------------------------------------------\n"
     ]
    },
    {
     "data": {
      "image/png": "[encoded data removed]",
      "text/plain": [
       "<Figure size 432x288 with 1 Axes>"
      ]
     },
     "metadata": {
      "needs_background": "light"
     },
     "output_type": "display_data"
    }
   ],
   "source": [
    "air = op.phases.Air(network=pn)\n",
    "water = op.phases.Water(network=pn)\n",
    "water['pore.contact_angle'] = 0\n",
    "air['pore.contact_angle'] = 180\n",
    "# water['pore.surface_tension'] = 0.064\n",
    "# air['pore.surface_tension'] = 0.064\n",
    "\n",
    "\n",
    "phys_air = op.physics.Standard(network=pn, phase=air, geometry=geo)\n",
    "phys_water = op.physics.Standard(network=pn, phase=water, geometry=geo)\n",
    "\n",
    "inlets = pn.pores('bottom')\n",
    "outlets = pn.pores('top')\n",
    "OP_1 = op.algorithms.OrdinaryPercolation(network=pn,phase=air)\n",
    "OP_1.set_inlets(pores=inlets)\n",
    "OP_1.setup(phase=air, pore_volume='pore.volume', throat_volume='throat.volume')\n",
    "OP_1.run(points=100)\n",
    "\n",
    "data = OP_1.get_intrusion_data()\n",
    "sw = [1-x for x in data.Snwp]\n",
    "snw = data.Snwp\n",
    "f = plt.figure()\n",
    "plt.scatter(sw,data.Pcap)\n",
    "plt.xlabel('Wetting phase saturation')\n",
    "plt.ylabel('Capilary pressure')\n",
    "# print(data.Pcap)\n",
    "# print(data.Snwp)\n",
    "pc_data = {'Sw':np.array(sw),'Pc':np.array(data.Pcap)}\n",
    "pc_data = pd.DataFrame(pc_data)\n",
    "# pc_data.to_excel('pc-data_op.xlsx')"
   ]
  },
  {
   "cell_type": "markdown",
   "metadata": {},
   "source": []
  },
  {
   "cell_type": "code",
   "execution_count": 6,
   "metadata": {},
   "outputs": [],
   "source": [
    "def update_phase_and_phys_water(results):\n",
    "    # convert results to boolean matrix\n",
    "    results['pore.occupancy'] = results['pore.occupancy'].astype(int) > 0\n",
    "    results['throat.occupancy'] = results['throat.occupancy'].astype(int) > 0\n",
    "    val = np.amin(phys_water['throat.hydraulic_conductance'])/1000\n",
    "\n",
    "    # results: pore and throats occupancy\n",
    "    air.update(results)\n",
    "    # if stokes flow of water, we need to update phys_water hydraulic conductance.\n",
    "    #  The percoaltion result is always refering to air since this is phase we we are using to invade\n",
    "    # Therefore, locations where water hydraulic conductance is slow indicate gas saturated\n",
    "    phys_water['throat.hydraulic_conductance'][air['throat.occupancy']] = val\n",
    "\n",
    "def update_phase_and_phys_air(results):\n",
    "    val = np.amin(phys_water['throat.hydraulic_conductance'])/1000\n",
    "\n",
    "    results['pore.occupancy'] = results['pore.occupancy'].astype(int) > 0\n",
    "    results['throat.occupancy'] = results['throat.occupancy'].astype(int) > 0\n",
    "    # results: pore and throats occupancy\n",
    "    air.update(results)\n",
    "    # if stokes flow of air, we need to update phys_air hydraulic conductance.\n",
    "    # Therefore, locations where air hydraulic conductance is slow indicate water saturated\n",
    "    phys_air['throat.hydraulic_conductance'][~air['throat.occupancy']] = val\n"
   ]
  },
  {
   "cell_type": "code",
   "execution_count": 7,
   "metadata": {},
   "outputs": [
    {
     "name": "stdout",
     "output_type": "stream",
     "text": [
      "Absolute permeability is 204.62681815652988md\n"
     ]
    }
   ],
   "source": [
    "def stokes_flow(phase,inlet,outlet):\n",
    "    st = op.algorithms.StokesFlow(network=pn)\n",
    "    st.setup(phase=phase)\n",
    "    # in boundary front water saturation is 1\n",
    "    # Boundary pores with constant condition\n",
    "    # left is the inlet of flow\n",
    "    st.set_value_BC(pores=pn.pores(inlet), values=0)\n",
    "    # outlet of flow\n",
    "    st.set_value_BC(pores=pn.pores(outlet), values=1) # this part needs some validation\n",
    "    st.run()\n",
    "    return st\n",
    "\n",
    "def cal_absolute_perm(image_size,resolution,Q):\n",
    "    A = (image_size*image_size) *resolution**2 # m^2\n",
    "    L = image_size * resolution # m\n",
    "    mu = water['pore.viscosity'].max() # N s/m^2 or Pa s\n",
    "    delta_P = 1 # 1-0\n",
    "    K = Q * L * mu / (A * delta_P)\n",
    "    return K/0.98e-12*1000\n",
    "\n",
    "def cal_eff_perm(image_size,resolution,Q,phase):\n",
    "    A = (image_size*image_size) *resolution**2\n",
    "    L = image_size * resolution\n",
    "    mu = phase['pore.viscosity'].max() # N s/m^2 or Pa s\n",
    "    delta_P = 1\n",
    "    K = Q * L * mu / (A * delta_P)\n",
    "\n",
    "    return K/0.98e-12*1000\n",
    "\n",
    "im_shape = 128\n",
    "resolution = 2.32e-06\n",
    "\n",
    "# absolute permeability of water\n",
    "phys_water.regenerate_models()\n",
    "st = op.algorithms.StokesFlow(network=pn)\n",
    "st.setup(phase=water)\n",
    "# in boundary front water saturation is 1\n",
    "# Boundary pores with constant condition\n",
    "# left is the inlet of flow\n",
    "st.set_value_BC(pores=inlets, values=0)\n",
    "# outlet of flow\n",
    "st.set_value_BC(pores=outlets, values=1) # this part needs some validation\n",
    "st.run()\n",
    "\n",
    "Q_abs_water = st.rate(pores=outlets,mode='group')\n",
    "kabs_water = cal_absolute_perm(im_shape,resolution,Q_abs_water[0])\n",
    "print(f'Absolute permeability is {kabs_water}md')\n",
    "proj.purge_object(obj=st)\n",
    "\n"
   ]
  },
  {
   "cell_type": "code",
   "execution_count": 8,
   "metadata": {},
   "outputs": [],
   "source": [
    "# simulation of multphase kr for water\n",
    "keff_water = []\n",
    "phys_water.regenerate_models()\n",
    "for Pc in data.Pcap:\n",
    "    update_phase_and_phys_water(OP_1.results(Pc=Pc))\n",
    "    st = op.algorithms.StokesFlow(network=pn)\n",
    "    st.setup(phase=water)\n",
    "    st.set_value_BC(pores=inlets, values=0)\n",
    "    st.set_value_BC(pores=outlets, values=1)\n",
    "    st.run()\n",
    "    Q = st.rate(pores=outlets,mode='group')[0]\n",
    "    keff = cal_eff_perm(im_shape,resolution,Q,water)\n",
    "    keff_water.append(keff)\n",
    "    proj.purge_object(obj=st)\n",
    "    phys_water.regenerate_models()"
   ]
  },
  {
   "cell_type": "code",
   "execution_count": 9,
   "metadata": {},
   "outputs": [],
   "source": [
    "keff_air = []\n",
    "phys_air.regenerate_models()\n",
    "for Pc in data.Pcap:\n",
    "    update_phase_and_phys_air(OP_1.results(Pc=Pc))\n",
    "    st = op.algorithms.StokesFlow(network=pn)\n",
    "    st.setup(phase=air)\n",
    "    st.set_value_BC(pores=inlets, values=0)\n",
    "    st.set_value_BC(pores=outlets, values=1)\n",
    "    st.run()\n",
    "    Q = st.rate(pores=outlets,mode='group')[0]\n",
    "    keff = cal_eff_perm(im_shape,resolution,Q,air)\n",
    "    keff_air.append(keff)\n",
    "    proj.purge_object(obj=st)\n",
    "    phys_air.regenerate_models()"
   ]
  },
  {
   "cell_type": "code",
   "execution_count": 10,
   "metadata": {},
   "outputs": [],
   "source": [
    "kr_water = np.array(keff_water)/kabs_water\n",
    "kr_air = np.array(keff_air)/kabs_water\n",
    "kr_data = {'Snw':snw,'kr_air':kr_air,'kr_water':kr_water}\n",
    "kr_data =pd.DataFrame(kr_data)\n",
    "# kr_data.to_excel('kr-data_opflowrate.xlsx')"
   ]
  },
  {
   "cell_type": "code",
   "execution_count": 11,
   "metadata": {},
   "outputs": [
    {
     "data": {
      "text/plain": [
       "<matplotlib.legend.Legend at 0x7f7fe31b3490>"
      ]
     },
     "execution_count": 11,
     "metadata": {},
     "output_type": "execute_result"
    },
    {
     "data": {
      "image/png": "[encoded data removed]",
      "text/plain": [
       "<Figure size 432x288 with 1 Axes>"
      ]
     },
     "metadata": {
      "needs_background": "light"
     },
     "output_type": "display_data"
    }
   ],
   "source": [
    "plt.scatter(snw,np.array(keff_water)/kabs_water,label='water')\n",
    "plt.scatter(snw,np.array(keff_air)/kabs_water,label='air')\n",
    "plt.xlabel('Gas saturation')\n",
    "plt.legend()"
   ]
  },
  {
   "cell_type": "code",
   "execution_count": 12,
   "metadata": {},
   "outputs": [
    {
     "data": {
      "text/plain": [
       "<matplotlib.legend.Legend at 0x7f7febff9280>"
      ]
     },
     "execution_count": 12,
     "metadata": {},
     "output_type": "execute_result"
    },
    {
     "data": {
      "image/png": "[encoded data removed]",
      "text/plain": [
       "<Figure size 432x288 with 1 Axes>"
      ]
     },
     "metadata": {
      "needs_background": "light"
     },
     "output_type": "display_data"
    }
   ],
   "source": [
    "plt.scatter(sw,np.array(keff_water)/kabs_water,label='water')\n",
    "plt.scatter(sw,np.array(keff_air)/kabs_water,label='air')\n",
    "plt.xlabel('Water saturation')\n",
    "plt.legend()"
   ]
  },
  {
   "cell_type": "markdown",
   "metadata": {},
   "source": [
    "#### The residual gas saturation is 0.6\n",
    "#### The irreducible water saturation is 0.2"
   ]
  },
  {
   "cell_type": "code",
   "execution_count": null,
   "metadata": {},
   "outputs": [],
   "source": []
  }
 ],
 "metadata": {
  "kernelspec": {
   "display_name": "Python 3.9.12 ('pnm-new')",
   "language": "python",
   "name": "python3"
  },
  "language_info": {
   "codemirror_mode": {
    "name": "ipython",
    "version": 3
   },
   "file_extension": ".py",
   "mimetype": "text/x-python",
   "name": "python",
   "nbconvert_exporter": "python",
   "pygments_lexer": "ipython3",
   "version": "3.9.12"
  },
  "orig_nbformat": 4,
  "vscode": {
   "interpreter": {
    "hash": "769950f749cf263e04e34dc3f2141dd64b68c6436fc98dadab253467171bd3e2"
   }
  }
 },
 "nbformat": 4,
 "nbformat_minor": 2
}
