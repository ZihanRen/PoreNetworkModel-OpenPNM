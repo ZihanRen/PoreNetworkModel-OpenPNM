{
 "cells": [
  {
   "cell_type": "code",
   "execution_count": 1,
   "metadata": {},
   "outputs": [
    {
     "name": "stdout",
     "output_type": "stream",
     "text": [
      "------------------------------------------------------------\n",
      "Beginning SNOW Algorithm\n",
      "Converting supplied image (im) to boolean\n",
      "Peforming Distance Transform\n",
      "Applying Gaussian blur with sigma = 0.4\n",
      "Initial number of peaks:  64167\n",
      "Peaks after trimming saddle points:  42240\n",
      "Peaks after trimming nearby peaks:  39078\n",
      "------------------------------------------------------------\n",
      "Extracting pore and throat information from image\n",
      "100%|██████████| 46044/46044 [16:13<00:00, 47.28it/s]  \n"
     ]
    }
   ],
   "source": [
    "from PIL import Image\n",
    "import os\n",
    "import numpy as np\n",
    "import matplotlib.pyplot as plt\n",
    "from skimage.measure import euler_number\n",
    "import porespy as ps\n",
    "import matplotlib.pyplot as plt\n",
    "import os\n",
    "import numpy as np\n",
    "import openpnm as op\n",
    "import openpnm.models as mods\n",
    "from openpnm.models import physics as pm\n",
    "import pandas as pd\n",
    "\n",
    "np.random.seed(0)\n",
    "\n",
    "def n2_cal(pore_index,pore_occ):\n",
    "    # cal of redundant loop\n",
    "    return (pore_occ[pore_index[0]] & \n",
    "            pore_occ[pore_index[1]])\n",
    "\n",
    "def n3_cal(pore_index,pore_occ):\n",
    "    # cal of isolated pore\n",
    "    return not (pore_occ[pore_index[0]] | \n",
    "            pore_occ[pore_index[1]])\n",
    "\n",
    "# PATH = r'C:\\Users\\rtopa\\OneDrive\\phd22\\gan\\pnm\\openpnm'\n",
    "# PATH = r'C:\\Users\\rtopa\\OneDrive\\phd22\\pnm\\openpnm'\n",
    "# os.chdir(PATH)\n",
    "# im = np.load('1.npy')\n",
    "raw_file = np.fromfile('Berea_2d25um_binary.raw', dtype=np.uint8)\n",
    "im = (raw_file.reshape(1000,1000,1000))\n",
    "\n",
    "\n",
    "\n",
    "# running snow algorithm to extract pore geometry information from network\n",
    "snow = ps.networks.snow(\n",
    "    im=im,\n",
    "    voxel_size=2.32e-06)\n",
    "\n",
    "# extracting network and geometry from snow simulation results\n",
    "proj = op.io.PoreSpy.import_data(snow)\n",
    "\n",
    "pn,geo = proj[0],proj[1]\n",
    "\n",
    "# check the health of network\n",
    "health = pn.check_network_health()\n",
    "op.topotools.trim(network=pn, pores=health['trim_pores'])\n",
    "\n",
    "# define phase and physics\n",
    "air = op.phases.Air(network=pn)\n",
    "water = op.phases.Water(network=pn)\n",
    "phys_air = op.physics.Standard(network=pn, phase=air, geometry=geo)\n",
    "phys_water = op.physics.Standard(network=pn, phase=water, geometry=geo)"
   ]
  },
  {
   "cell_type": "code",
   "execution_count": 2,
   "metadata": {},
   "outputs": [
    {
     "name": "stderr",
     "output_type": "stream",
     "text": [
      "------------------------------------------------------------\n",
      "WARNING    : Inlets have non-zero volume, percolation curve won't start at 0. \n",
      "SOURCE     : openpnm.algorithms.OrdinaryPercolation.get_intrusion_data \n",
      "TIME STAMP : 2022-05-16 17:20:39,334\n",
      "------------------------------------------------------------\n"
     ]
    },
    {
     "data": {
      "text/plain": [
       "Text(0, 0.5, 'Capilary pressure')"
      ]
     },
     "execution_count": 2,
     "metadata": {},
     "output_type": "execute_result"
    },
    {
     "data": {
      "image/png": "[encoded data removed]",
      "text/plain": [
       "<Figure size 432x288 with 1 Axes>"
      ]
     },
     "metadata": {
      "needs_background": "light"
     },
     "output_type": "display_data"
    }
   ],
   "source": [
    "inlets = pn.pores('bottom')\n",
    "\n",
    "OP_1 = op.algorithms.OrdinaryPercolation(network=pn,phase=air)\n",
    "OP_1.set_inlets(pores=inlets)\n",
    "OP_1.setup(phase=water, pore_volume='pore.volume', throat_volume='throat.volume')\n",
    "OP_1.run(points=100)\n",
    "\n",
    "data = OP_1.get_intrusion_data()\n",
    "sw = [1-x for x in data.Snwp]\n",
    "f = plt.figure()\n",
    "plt.plot(sw,data.Pcap)\n",
    "plt.xlabel('Wetting phase saturation')\n",
    "plt.ylabel('Capilary pressure')"
   ]
  },
  {
   "cell_type": "code",
   "execution_count": 3,
   "metadata": {},
   "outputs": [
    {
     "data": {
      "text/plain": [
       "Text(0, 0.5, 'Capilary pressure')"
      ]
     },
     "execution_count": 3,
     "metadata": {},
     "output_type": "execute_result"
    },
    {
     "data": {
      "image/png": "[encoded data removed]",
      "text/plain": [
       "<Figure size 432x288 with 1 Axes>"
      ]
     },
     "metadata": {
      "needs_background": "light"
     },
     "output_type": "display_data"
    }
   ],
   "source": [
    "filter_pc = [data.Pcap[0]]\n",
    "sat = [data.Snwp[0]]\n",
    "for i, pc in enumerate(data.Pcap):\n",
    "    if  data.Snwp[i] - sat[-1] > 0.01:\n",
    "        filter_pc.append(pc)\n",
    "        sat.append(data.Snwp[i])\n",
    "filter_pc.append(data.Pcap[-1])\n",
    "sat.append(data.Snwp[-1])\n",
    "sw = [1-x for x in sat]\n",
    "\n",
    "f = plt.figure()\n",
    "plt.plot(sw,filter_pc)\n",
    "plt.xlabel('Wetting phase saturation')\n",
    "plt.ylabel('Capilary pressure')"
   ]
  },
  {
   "cell_type": "code",
   "execution_count": 4,
   "metadata": {},
   "outputs": [
    {
     "ename": "PyPardisoError",
     "evalue": "The Pardiso solver failed with error code -3. See Pardiso documentation for details.",
     "output_type": "error",
     "traceback": [
      "\u001b[0;31m---------------------------------------------------------------------------\u001b[0m",
      "\u001b[0;31mPyPardisoError\u001b[0m                            Traceback (most recent call last)",
      "\u001b[0;32m/tmp/ipykernel_21420/4027623400.py\u001b[0m in \u001b[0;36m<module>\u001b[0;34m\u001b[0m\n\u001b[1;32m     26\u001b[0m \u001b[0msf_air\u001b[0m\u001b[0;34m.\u001b[0m\u001b[0mset_value_BC\u001b[0m\u001b[0;34m(\u001b[0m\u001b[0mvalues\u001b[0m\u001b[0;34m=\u001b[0m\u001b[0;36m0.6\u001b[0m\u001b[0;34m,\u001b[0m \u001b[0mpores\u001b[0m\u001b[0;34m=\u001b[0m\u001b[0minlet\u001b[0m\u001b[0;34m)\u001b[0m\u001b[0;34m\u001b[0m\u001b[0;34m\u001b[0m\u001b[0m\n\u001b[1;32m     27\u001b[0m \u001b[0msf_air\u001b[0m\u001b[0;34m.\u001b[0m\u001b[0mset_value_BC\u001b[0m\u001b[0;34m(\u001b[0m\u001b[0mvalues\u001b[0m\u001b[0;34m=\u001b[0m\u001b[0;36m0.2\u001b[0m\u001b[0;34m,\u001b[0m \u001b[0mpores\u001b[0m\u001b[0;34m=\u001b[0m\u001b[0moutlet\u001b[0m\u001b[0;34m)\u001b[0m\u001b[0;34m\u001b[0m\u001b[0;34m\u001b[0m\u001b[0m\n\u001b[0;32m---> 28\u001b[0;31m \u001b[0msf_air\u001b[0m\u001b[0;34m.\u001b[0m\u001b[0mrun\u001b[0m\u001b[0;34m(\u001b[0m\u001b[0;34m)\u001b[0m\u001b[0;34m\u001b[0m\u001b[0;34m\u001b[0m\u001b[0m\n\u001b[0m\u001b[1;32m     29\u001b[0m \u001b[0mK_air_single_phase\u001b[0m \u001b[0;34m=\u001b[0m \u001b[0msf_air\u001b[0m\u001b[0;34m.\u001b[0m\u001b[0mcalc_effective_permeability\u001b[0m\u001b[0;34m(\u001b[0m\u001b[0;34m)\u001b[0m\u001b[0;34m\u001b[0m\u001b[0;34m\u001b[0m\u001b[0m\n\u001b[1;32m     30\u001b[0m \u001b[0mproj\u001b[0m\u001b[0;34m.\u001b[0m\u001b[0mpurge_object\u001b[0m\u001b[0;34m(\u001b[0m\u001b[0mobj\u001b[0m\u001b[0;34m=\u001b[0m\u001b[0msf_air\u001b[0m\u001b[0;34m)\u001b[0m\u001b[0;34m\u001b[0m\u001b[0;34m\u001b[0m\u001b[0m\n",
      "\u001b[0;32m/akshat/s0/zur74/envs/torch/lib/python3.8/site-packages/openpnm/algorithms/ReactiveTransport.py\u001b[0m in \u001b[0;36mrun\u001b[0;34m(self, x0)\u001b[0m\n\u001b[1;32m    157\u001b[0m         \u001b[0mx0\u001b[0m \u001b[0;34m=\u001b[0m \u001b[0mnp\u001b[0m\u001b[0;34m.\u001b[0m\u001b[0mzeros\u001b[0m\u001b[0;34m(\u001b[0m\u001b[0mself\u001b[0m\u001b[0;34m.\u001b[0m\u001b[0mNp\u001b[0m\u001b[0;34m,\u001b[0m \u001b[0mdtype\u001b[0m\u001b[0;34m=\u001b[0m\u001b[0mfloat\u001b[0m\u001b[0;34m)\u001b[0m \u001b[0;32mif\u001b[0m \u001b[0mx0\u001b[0m \u001b[0;32mis\u001b[0m \u001b[0;32mNone\u001b[0m \u001b[0;32melse\u001b[0m \u001b[0mx0\u001b[0m\u001b[0;34m\u001b[0m\u001b[0;34m\u001b[0m\u001b[0m\n\u001b[1;32m    158\u001b[0m         \u001b[0mself\u001b[0m\u001b[0;34m[\u001b[0m\u001b[0;34m\"pore.initial_guess\"\u001b[0m\u001b[0;34m]\u001b[0m \u001b[0;34m=\u001b[0m \u001b[0mx0\u001b[0m\u001b[0;34m\u001b[0m\u001b[0;34m\u001b[0m\u001b[0m\n\u001b[0;32m--> 159\u001b[0;31m         \u001b[0mx\u001b[0m \u001b[0;34m=\u001b[0m \u001b[0mself\u001b[0m\u001b[0;34m.\u001b[0m\u001b[0m_run_reactive\u001b[0m\u001b[0;34m(\u001b[0m\u001b[0mx0\u001b[0m\u001b[0;34m)\u001b[0m\u001b[0;34m\u001b[0m\u001b[0;34m\u001b[0m\u001b[0m\n\u001b[0m\u001b[1;32m    160\u001b[0m         \u001b[0mself\u001b[0m\u001b[0;34m[\u001b[0m\u001b[0mquantity\u001b[0m\u001b[0;34m]\u001b[0m \u001b[0;34m=\u001b[0m \u001b[0mx\u001b[0m\u001b[0;34m\u001b[0m\u001b[0;34m\u001b[0m\u001b[0m\n\u001b[1;32m    161\u001b[0m \u001b[0;34m\u001b[0m\u001b[0m\n",
      "\u001b[0;32m/akshat/s0/zur74/envs/torch/lib/python3.8/site-packages/openpnm/algorithms/ReactiveTransport.py\u001b[0m in \u001b[0;36m_run_reactive\u001b[0;34m(self, x0)\u001b[0m\n\u001b[1;32m    359\u001b[0m         \u001b[0;32mfor\u001b[0m \u001b[0mitr\u001b[0m \u001b[0;32min\u001b[0m \u001b[0mrange\u001b[0m\u001b[0;34m(\u001b[0m\u001b[0mmax_it\u001b[0m\u001b[0;34m)\u001b[0m\u001b[0;34m:\u001b[0m\u001b[0;34m\u001b[0m\u001b[0;34m\u001b[0m\u001b[0m\n\u001b[1;32m    360\u001b[0m             \u001b[0;31m# Solve, use relaxation, and update solution on algorithm obj\u001b[0m\u001b[0;34m\u001b[0m\u001b[0;34m\u001b[0m\u001b[0;34m\u001b[0m\u001b[0m\n\u001b[0;32m--> 361\u001b[0;31m             \u001b[0mself\u001b[0m\u001b[0;34m[\u001b[0m\u001b[0mquantity\u001b[0m\u001b[0;34m]\u001b[0m \u001b[0;34m=\u001b[0m \u001b[0mx\u001b[0m \u001b[0;34m=\u001b[0m \u001b[0mself\u001b[0m\u001b[0;34m.\u001b[0m\u001b[0m_solve\u001b[0m\u001b[0;34m(\u001b[0m\u001b[0mx0\u001b[0m\u001b[0;34m=\u001b[0m\u001b[0mx\u001b[0m\u001b[0;34m)\u001b[0m \u001b[0;34m*\u001b[0m \u001b[0mw\u001b[0m \u001b[0;34m+\u001b[0m \u001b[0mx\u001b[0m \u001b[0;34m*\u001b[0m \u001b[0;34m(\u001b[0m\u001b[0;36m1\u001b[0m \u001b[0;34m-\u001b[0m \u001b[0mw\u001b[0m\u001b[0;34m)\u001b[0m\u001b[0;34m\u001b[0m\u001b[0;34m\u001b[0m\u001b[0m\n\u001b[0m\u001b[1;32m    362\u001b[0m             \u001b[0mself\u001b[0m\u001b[0;34m.\u001b[0m\u001b[0m_update_A_and_b\u001b[0m\u001b[0;34m(\u001b[0m\u001b[0;34m)\u001b[0m\u001b[0;34m\u001b[0m\u001b[0;34m\u001b[0m\u001b[0m\n\u001b[1;32m    363\u001b[0m             \u001b[0;31m# Check solution convergence\u001b[0m\u001b[0;34m\u001b[0m\u001b[0;34m\u001b[0m\u001b[0;34m\u001b[0m\u001b[0m\n",
      "\u001b[0;32m/akshat/s0/zur74/envs/torch/lib/python3.8/site-packages/openpnm/algorithms/GenericTransport.py\u001b[0m in \u001b[0;36m_solve\u001b[0;34m(self, A, b, x0)\u001b[0m\n\u001b[1;32m    619\u001b[0m         \u001b[0;31m# Fetch solver object based on settings dict.\u001b[0m\u001b[0;34m\u001b[0m\u001b[0;34m\u001b[0m\u001b[0;34m\u001b[0m\u001b[0m\n\u001b[1;32m    620\u001b[0m         \u001b[0msolver\u001b[0m \u001b[0;34m=\u001b[0m \u001b[0mself\u001b[0m\u001b[0;34m.\u001b[0m\u001b[0m_get_solver\u001b[0m\u001b[0;34m(\u001b[0m\u001b[0;34m)\u001b[0m\u001b[0;34m\u001b[0m\u001b[0;34m\u001b[0m\u001b[0m\n\u001b[0;32m--> 621\u001b[0;31m         \u001b[0mx\u001b[0m \u001b[0;34m=\u001b[0m \u001b[0msolver\u001b[0m\u001b[0;34m(\u001b[0m\u001b[0mA\u001b[0m\u001b[0;34m,\u001b[0m \u001b[0mb\u001b[0m\u001b[0;34m,\u001b[0m \u001b[0matol\u001b[0m\u001b[0;34m=\u001b[0m\u001b[0matol\u001b[0m\u001b[0;34m,\u001b[0m \u001b[0mrtol\u001b[0m\u001b[0;34m=\u001b[0m\u001b[0mrtol\u001b[0m\u001b[0;34m,\u001b[0m \u001b[0mmax_it\u001b[0m\u001b[0;34m=\u001b[0m\u001b[0mmax_it\u001b[0m\u001b[0;34m,\u001b[0m \u001b[0mx0\u001b[0m\u001b[0;34m=\u001b[0m\u001b[0mx0\u001b[0m\u001b[0;34m)\u001b[0m\u001b[0;34m\u001b[0m\u001b[0;34m\u001b[0m\u001b[0m\n\u001b[0m\u001b[1;32m    622\u001b[0m \u001b[0;34m\u001b[0m\u001b[0m\n\u001b[1;32m    623\u001b[0m         \u001b[0;31m# Check solution convergence\u001b[0m\u001b[0;34m\u001b[0m\u001b[0;34m\u001b[0m\u001b[0;34m\u001b[0m\u001b[0m\n",
      "\u001b[0;32m/akshat/s0/zur74/envs/torch/lib/python3.8/site-packages/openpnm/algorithms/GenericTransport.py\u001b[0m in \u001b[0;36msolver\u001b[0;34m(A, b, **kwargs)\u001b[0m\n\u001b[1;32m    678\u001b[0m                 \"\"\"\n\u001b[1;32m    679\u001b[0m                 \u001b[0;32mimport\u001b[0m \u001b[0mpypardiso\u001b[0m\u001b[0;34m\u001b[0m\u001b[0;34m\u001b[0m\u001b[0m\n\u001b[0;32m--> 680\u001b[0;31m                 \u001b[0mx\u001b[0m \u001b[0;34m=\u001b[0m \u001b[0mpypardiso\u001b[0m\u001b[0;34m.\u001b[0m\u001b[0mspsolve\u001b[0m\u001b[0;34m(\u001b[0m\u001b[0mA\u001b[0m\u001b[0;34m=\u001b[0m\u001b[0mA\u001b[0m\u001b[0;34m,\u001b[0m \u001b[0mb\u001b[0m\u001b[0;34m=\u001b[0m\u001b[0mb\u001b[0m\u001b[0;34m)\u001b[0m\u001b[0;34m\u001b[0m\u001b[0;34m\u001b[0m\u001b[0m\n\u001b[0m\u001b[1;32m    681\u001b[0m                 \u001b[0;32mreturn\u001b[0m \u001b[0mx\u001b[0m\u001b[0;34m\u001b[0m\u001b[0;34m\u001b[0m\u001b[0m\n\u001b[1;32m    682\u001b[0m         \u001b[0;31m# CuPy\u001b[0m\u001b[0;34m\u001b[0m\u001b[0;34m\u001b[0m\u001b[0;34m\u001b[0m\u001b[0m\n",
      "\u001b[0;32m/akshat/s0/zur74/envs/torch/lib/python3.8/site-packages/pypardiso/scipy_aliases.py\u001b[0m in \u001b[0;36mspsolve\u001b[0;34m(A, b, factorize, squeeze, solver, *args, **kwargs)\u001b[0m\n\u001b[1;32m     44\u001b[0m     \u001b[0msolver\u001b[0m\u001b[0;34m.\u001b[0m\u001b[0m_check_A\u001b[0m\u001b[0;34m(\u001b[0m\u001b[0mA\u001b[0m\u001b[0;34m)\u001b[0m\u001b[0;34m\u001b[0m\u001b[0;34m\u001b[0m\u001b[0m\n\u001b[1;32m     45\u001b[0m     \u001b[0;32mif\u001b[0m \u001b[0mfactorize\u001b[0m \u001b[0;32mand\u001b[0m \u001b[0;32mnot\u001b[0m \u001b[0msolver\u001b[0m\u001b[0;34m.\u001b[0m\u001b[0m_is_already_factorized\u001b[0m\u001b[0;34m(\u001b[0m\u001b[0mA\u001b[0m\u001b[0;34m)\u001b[0m\u001b[0;34m:\u001b[0m\u001b[0;34m\u001b[0m\u001b[0;34m\u001b[0m\u001b[0m\n\u001b[0;32m---> 46\u001b[0;31m         \u001b[0msolver\u001b[0m\u001b[0;34m.\u001b[0m\u001b[0mfactorize\u001b[0m\u001b[0;34m(\u001b[0m\u001b[0mA\u001b[0m\u001b[0;34m)\u001b[0m\u001b[0;34m\u001b[0m\u001b[0;34m\u001b[0m\u001b[0m\n\u001b[0m\u001b[1;32m     47\u001b[0m \u001b[0;34m\u001b[0m\u001b[0m\n\u001b[1;32m     48\u001b[0m     \u001b[0mx\u001b[0m \u001b[0;34m=\u001b[0m \u001b[0msolver\u001b[0m\u001b[0;34m.\u001b[0m\u001b[0msolve\u001b[0m\u001b[0;34m(\u001b[0m\u001b[0mA\u001b[0m\u001b[0;34m,\u001b[0m \u001b[0mb\u001b[0m\u001b[0;34m)\u001b[0m\u001b[0;34m\u001b[0m\u001b[0;34m\u001b[0m\u001b[0m\n",
      "\u001b[0;32m/akshat/s0/zur74/envs/torch/lib/python3.8/site-packages/pypardiso/pardiso_wrapper.py\u001b[0m in \u001b[0;36mfactorize\u001b[0;34m(self, A)\u001b[0m\n\u001b[1;32m    148\u001b[0m         \u001b[0mself\u001b[0m\u001b[0;34m.\u001b[0m\u001b[0mset_phase\u001b[0m\u001b[0;34m(\u001b[0m\u001b[0;36m12\u001b[0m\u001b[0;34m)\u001b[0m\u001b[0;34m\u001b[0m\u001b[0;34m\u001b[0m\u001b[0m\n\u001b[1;32m    149\u001b[0m         \u001b[0mb\u001b[0m \u001b[0;34m=\u001b[0m \u001b[0mnp\u001b[0m\u001b[0;34m.\u001b[0m\u001b[0mzeros\u001b[0m\u001b[0;34m(\u001b[0m\u001b[0;34m(\u001b[0m\u001b[0mA\u001b[0m\u001b[0;34m.\u001b[0m\u001b[0mshape\u001b[0m\u001b[0;34m[\u001b[0m\u001b[0;36m0\u001b[0m\u001b[0;34m]\u001b[0m\u001b[0;34m,\u001b[0m \u001b[0;36m1\u001b[0m\u001b[0;34m)\u001b[0m\u001b[0;34m)\u001b[0m\u001b[0;34m\u001b[0m\u001b[0;34m\u001b[0m\u001b[0m\n\u001b[0;32m--> 150\u001b[0;31m         \u001b[0mself\u001b[0m\u001b[0;34m.\u001b[0m\u001b[0m_call_pardiso\u001b[0m\u001b[0;34m(\u001b[0m\u001b[0mA\u001b[0m\u001b[0;34m,\u001b[0m \u001b[0mb\u001b[0m\u001b[0;34m)\u001b[0m\u001b[0;34m\u001b[0m\u001b[0;34m\u001b[0m\u001b[0m\n\u001b[0m\u001b[1;32m    151\u001b[0m \u001b[0;34m\u001b[0m\u001b[0m\n\u001b[1;32m    152\u001b[0m     \u001b[0;32mdef\u001b[0m \u001b[0msolve\u001b[0m\u001b[0;34m(\u001b[0m\u001b[0mself\u001b[0m\u001b[0;34m,\u001b[0m \u001b[0mA\u001b[0m\u001b[0;34m,\u001b[0m \u001b[0mb\u001b[0m\u001b[0;34m)\u001b[0m\u001b[0;34m:\u001b[0m\u001b[0;34m\u001b[0m\u001b[0;34m\u001b[0m\u001b[0m\n",
      "\u001b[0;32m/akshat/s0/zur74/envs/torch/lib/python3.8/site-packages/pypardiso/pardiso_wrapper.py\u001b[0m in \u001b[0;36m_call_pardiso\u001b[0;34m(self, A, b)\u001b[0m\n\u001b[1;32m    279\u001b[0m \u001b[0;34m\u001b[0m\u001b[0m\n\u001b[1;32m    280\u001b[0m         \u001b[0;32mif\u001b[0m \u001b[0mpardiso_error\u001b[0m\u001b[0;34m.\u001b[0m\u001b[0mvalue\u001b[0m \u001b[0;34m!=\u001b[0m \u001b[0;36m0\u001b[0m\u001b[0;34m:\u001b[0m\u001b[0;34m\u001b[0m\u001b[0;34m\u001b[0m\u001b[0m\n\u001b[0;32m--> 281\u001b[0;31m             \u001b[0;32mraise\u001b[0m \u001b[0mPyPardisoError\u001b[0m\u001b[0;34m(\u001b[0m\u001b[0mpardiso_error\u001b[0m\u001b[0;34m.\u001b[0m\u001b[0mvalue\u001b[0m\u001b[0;34m)\u001b[0m\u001b[0;34m\u001b[0m\u001b[0;34m\u001b[0m\u001b[0m\n\u001b[0m\u001b[1;32m    282\u001b[0m         \u001b[0;32melse\u001b[0m\u001b[0;34m:\u001b[0m\u001b[0;34m\u001b[0m\u001b[0;34m\u001b[0m\u001b[0m\n\u001b[1;32m    283\u001b[0m             \u001b[0;32mreturn\u001b[0m \u001b[0mnp\u001b[0m\u001b[0;34m.\u001b[0m\u001b[0mascontiguousarray\u001b[0m\u001b[0;34m(\u001b[0m\u001b[0mx\u001b[0m\u001b[0;34m)\u001b[0m  \u001b[0;31m# change memory-layout back from fortran to c order\u001b[0m\u001b[0;34m\u001b[0m\u001b[0;34m\u001b[0m\u001b[0m\n",
      "\u001b[0;31mPyPardisoError\u001b[0m: The Pardiso solver failed with error code -3. See Pardiso documentation for details."
     ]
    }
   ],
   "source": [
    "def update_phase_and_phys(results):\n",
    "    water['pore.occupancy'] = 1-results['pore.occupancy']\n",
    "    air['pore.occupancy'] = results['pore.occupancy']\n",
    "    water['throat.occupancy'] = 1-results['throat.occupancy']\n",
    "    air['throat.occupancy'] = results['throat.occupancy']\n",
    "    # Add multiphase conductances\n",
    "    mode='strict'\n",
    "    phys_air.add_model(model=mods.physics.multiphase.conduit_conductance,\n",
    "                       propname='throat.conduit_hydraulic_conductance',\n",
    "                       throat_conductance='throat.hydraulic_conductance',\n",
    "                       mode=mode)\n",
    "    phys_water.add_model(model=mods.physics.multiphase.conduit_conductance,\n",
    "                         propname='throat.conduit_hydraulic_conductance',\n",
    "                         throat_conductance='throat.hydraulic_conductance',\n",
    "                         mode=mode)\n",
    "\n",
    "\n",
    "update_phase_and_phys(OP_1.results(Pc=1e3))\n",
    "\n",
    "\n",
    "# %% absolute permeability calculation\n",
    "inlet = pn.pores('top')\n",
    "outlet = pn.pores('bottom')\n",
    "sf_air = op.algorithms.StokesFlow(network=pn, phase=air)\n",
    "sf_air.setup(conductance='throat.hydraulic_conductance')\n",
    "sf_air.set_value_BC(values=0.6, pores=inlet)\n",
    "sf_air.set_value_BC(values=0.2, pores=outlet)\n",
    "sf_air.run()\n",
    "K_air_single_phase = sf_air.calc_effective_permeability()\n",
    "proj.purge_object(obj=sf_air)\n",
    "\n",
    "\n",
    "sf_water = op.algorithms.StokesFlow(network=pn, phase=water)\n",
    "sf_water.setup(conductance='throat.hydraulic_conductance')\n",
    "sf_water.set_value_BC(values=0.6, pores=inlet)\n",
    "sf_water.set_value_BC(values=0.2, pores=outlet)\n",
    "sf_water.run()\n",
    "K_water_single_phase = sf_water.calc_effective_permeability()\n",
    "proj.purge_object(obj=sf_water)"
   ]
  },
  {
   "cell_type": "code",
   "execution_count": null,
   "metadata": {},
   "outputs": [],
   "source": [
    "perm_air = []\n",
    "perm_water = []\n",
    "\n",
    "for Pc in filter_pc:\n",
    "    update_phase_and_phys(OP_1.results(Pc=Pc))\n",
    "    print('-'*80)\n",
    "    print('Pc',Pc)\n",
    "\n",
    "    # set up flow simulator\n",
    "    sf_air = op.algorithms.StokesFlow(network=pn,phase=air)\n",
    "    sf_air.setup(conductance='throat.conduit_hydraulic_conductance')\n",
    "    sf_water = op.algorithms.StokesFlow(network=pn,phase=water)\n",
    "    sf_water.setup(conductance='throat.conduit_hydraulic_conductance')\n",
    "\n",
    "    # set up boundary conditions\n",
    "    sf_air.set_value_BC(values=0.6, pores=inlet)\n",
    "    sf_water.set_value_BC(values=0.6, pores=inlet)\n",
    "    sf_air.set_value_BC(values=0.2, pores=outlet)\n",
    "    sf_water.set_value_BC(values=0.2, pores=outlet)\n",
    "\n",
    "    sf_air.run()\n",
    "    sf_water.run()\n",
    "\n",
    "    Keff_air_mphase = sf_air.calc_effective_permeability()\n",
    "    Keff_water_mphase = sf_air.calc_effective_permeability()\n",
    "\n",
    "    # cal of kr\n",
    "    Kr_eff_air = Keff_air_mphase / K_air_single_phase\n",
    "    Kr_eff_water = Keff_water_mphase / K_water_single_phase\n",
    "\n",
    "    perm_air.append(Kr_eff_air)\n",
    "    perm_water.append(Kr_eff_water)\n",
    "    proj.purge_object(obj=sf_air)\n",
    "    proj.purge_object(obj=sf_water)\n"
   ]
  },
  {
   "cell_type": "code",
   "execution_count": null,
   "metadata": {},
   "outputs": [],
   "source": [
    "# plot kr curves\n",
    "f = plt.figure()\n",
    "plt.plot(sat,perm_air,c='b',label='air')\n",
    "plt.plot(sw,perm_water,c='r',label='water')\n",
    "plt.xlabel('Non wetting phase saturation')\n",
    "plt.ylabel('Relative permeability')\n",
    "plt.legend()"
   ]
  },
  {
   "cell_type": "code",
   "execution_count": null,
   "metadata": {},
   "outputs": [],
   "source": []
  }
 ],
 "metadata": {
  "interpreter": {
   "hash": "f9577e60ec8662f0d352dc1d4b68d02c1b7f91858e9ce6b0c792bd69979ffe2d"
  },
  "kernelspec": {
   "display_name": "Python 3.8.12 ('torch')",
   "language": "python",
   "name": "python3"
  },
  "language_info": {
   "codemirror_mode": {
    "name": "ipython",
    "version": 3
   },
   "file_extension": ".py",
   "mimetype": "text/x-python",
   "name": "python",
   "nbconvert_exporter": "python",
   "pygments_lexer": "ipython3",
   "version": "3.8.12"
  },
  "orig_nbformat": 4
 },
 "nbformat": 4,
 "nbformat_minor": 2
}
