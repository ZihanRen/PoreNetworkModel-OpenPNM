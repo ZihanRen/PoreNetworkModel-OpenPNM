{
 "cells": [
  {
   "cell_type": "markdown",
   "metadata": {},
   "source": [
    "# Begin pore network modeling"
   ]
  },
  {
   "cell_type": "code",
   "execution_count": 2,
   "metadata": {},
   "outputs": [
    {
     "name": "stdout",
     "output_type": "stream",
     "text": [
      "------------------------------------------------------------\n",
      "Beginning SNOW Algorithm\n",
      "Converting supplied image (im) to boolean\n",
      "Peforming Distance Transform\n",
      "Applying Gaussian blur with sigma = 0.4\n",
      "Initial number of peaks:  249\n",
      "Peaks after trimming saddle points:  143\n",
      "Peaks after trimming nearby peaks:  143\n",
      "------------------------------------------------------------\n",
      "Extracting pore and throat information from image\n",
      "100%|██████████| 244/244 [00:01<00:00, 229.76it/s]\n"
     ]
    }
   ],
   "source": [
    "import numpy as np\n",
    "import openpnm as op\n",
    "import porespy as ps\n",
    "import matplotlib.pyplot as plt\n",
    "import pandas as pd\n",
    "import os\n",
    "from openpnm.models import physics as mods\n",
    "from scipy import stats\n",
    "from skimage.measure import euler_number\n",
    "\n",
    "np.random.seed(10)\n",
    "resolution = 2.32e-06\n",
    "im_shape = 128\n",
    "snwp = np.arange(0, 1.005, 0.005)\n",
    "\n",
    "\n",
    "def get_physics(gen_physics):\n",
    "    gen_physics.add_model(propname='throat.hydraulic_conductance',\n",
    "                model=mods.hydraulic_conductance.classic_hagen_poiseuille)\n",
    "    gen_physics.add_model(propname='throat.entry_pressure',\n",
    "                model=mods.capillary_pressure.washburn)\n",
    "    return gen_physics\n",
    "\n",
    "\n",
    "\n",
    "im = np.load('1.npy')\n",
    "ws = op.Workspace()\n",
    "resolution = 2.25e-6 \n",
    "snow = ps.networks.snow(\n",
    "im=im,\n",
    "voxel_size=resolution)\n",
    "\n",
    "proj = op.io.PoreSpy.import_data(snow)\n",
    "pn,geo = proj[0],proj[1]\n",
    "\n",
    "health = pn.check_network_health()\n",
    "op.topotools.trim(network=pn, pores=health['trim_pores'])\n",
    "\n",
    "\n",
    "# define phase and physics\n",
    "# assuming temperature is \n",
    "air = op.phases.Air(network=pn)\n",
    "water = op.phases.Water(network=pn)\n",
    "air['pore.contact_angle'] = 180\n",
    "water['pore.contact_angle'] = 0\n",
    "water['pore.surface_tension'] = 0.064\n",
    "air['pore.surface_tension'] = 0.064\n",
    "\n",
    "phys_air = op.physics.GenericPhysics(network=pn, phase=air, geometry=geo)\n",
    "phys_water=op.physics.GenericPhysics(network=pn, phase=water, geometry=geo)\n",
    "phys_air = get_physics(phys_air)\n",
    "phys_water = get_physics(phys_water)\n"
   ]
  },
  {
   "cell_type": "markdown",
   "metadata": {},
   "source": [
    "# set up physics and perform invasion percolation"
   ]
  },
  {
   "cell_type": "code",
   "execution_count": 3,
   "metadata": {},
   "outputs": [
    {
     "data": {
      "image/png": "[encoded data removed]",
      "text/plain": [
       "<Figure size 432x288 with 1 Axes>"
      ]
     },
     "metadata": {
      "needs_background": "light"
     },
     "output_type": "display_data"
    }
   ],
   "source": [
    "inlets = pn.pores('bottom')\n",
    "outlets = pn.pores('top')\n",
    "ip = op.algorithms.InvasionPercolation(network=pn)\n",
    "ip.setup(phase=air)\n",
    "ip.set_inlets(pores=inlets)\n",
    "ip.run()\n",
    "\n",
    "data = ip.get_intrusion_data()\n",
    "sw = [1-x for x in data.S_tot]\n",
    "snw = data.S_tot\n",
    "f = plt.figure()\n",
    "plt.scatter(sw,data.Pcap)\n",
    "plt.xlabel('Wetting phase saturation')\n",
    "plt.ylabel('Capilary pressure')\n",
    "pc_data = {'Sw':np.array(sw),'Pc':np.array(data.Pcap)}\n",
    "pc_data = pd.DataFrame(pc_data)\n",
    "# pc_data.to_excel('pc-data_ip.xlsx')"
   ]
  },
  {
   "cell_type": "markdown",
   "metadata": {},
   "source": [
    "#### Define functions help update physics for different phases"
   ]
  },
  {
   "cell_type": "code",
   "execution_count": 4,
   "metadata": {},
   "outputs": [],
   "source": [
    "def update_phase_and_phys_water(results):\n",
    "    val = np.amin(phys_water['throat.hydraulic_conductance'])/1000\n",
    "\n",
    "    # results: pore and throats occupancy\n",
    "    air.update(results)\n",
    "    # if stokes flow of water, we need to update phys_water hydraulic conductance.\n",
    "    #  The percoaltion result is always refering to air since this is phase we we are using to invade\n",
    "    # Therefore, locations where water hydraulic conductance is slow indicate gas saturated\n",
    "    phys_water['throat.hydraulic_conductance'][air['throat.occupancy']] = val\n",
    "\n",
    "def update_phase_and_phys_air(results):\n",
    "    val = np.amin(phys_water['throat.hydraulic_conductance'])/1000\n",
    "    # results: pore and throats occupancy\n",
    "    air.update(results)\n",
    "    # if stokes flow of air, we need to update phys_air hydraulic conductance.\n",
    "    # Therefore, locations where air hydraulic conductance is slow indicate water saturated\n",
    "    phys_air['throat.hydraulic_conductance'][~air['throat.occupancy']] = val\n",
    "\n",
    "def stokes_flow(phase,inlet,outlet):\n",
    "    st = op.algorithms.StokesFlow(network=pn)\n",
    "    st.setup(phase=phase)\n",
    "    # in boundary front water saturation is 1\n",
    "    # Boundary pores with constant condition\n",
    "    # left is the inlet of flow\n",
    "    st.set_value_BC(pores=pn.pores(inlet), values=0)\n",
    "    # outlet of flow\n",
    "    st.set_value_BC(pores=pn.pores(outlet), values=1) # this part needs some validation\n",
    "    st.run()\n",
    "    return st\n",
    "\n",
    "def cal_absolute_perm(image_size,resolution,Q):\n",
    "    A = (image_size*image_size) *resolution**2 # m^2\n",
    "    L = image_size * resolution # m\n",
    "    mu = water['pore.viscosity'].max() # N s/m^2 or Pa s\n",
    "    delta_P = 1 # 1-0\n",
    "    K = Q * L * mu / (A * delta_P)\n",
    "    return K/0.98e-12*1000\n",
    "\n",
    "def cal_eff_perm(image_size,resolution,Q,phase):\n",
    "    A = (image_size*image_size) *resolution**2\n",
    "    L = image_size * resolution\n",
    "    mu = phase['pore.viscosity'].max() # N s/m^2 or Pa s\n",
    "    delta_P = 1\n",
    "    K = Q * L * mu / (A * delta_P)\n",
    "\n",
    "    return K/0.98e-12*1000"
   ]
  },
  {
   "cell_type": "markdown",
   "metadata": {},
   "source": [
    "##### calculate absolute permeability"
   ]
  },
  {
   "cell_type": "code",
   "execution_count": 5,
   "metadata": {},
   "outputs": [
    {
     "name": "stdout",
     "output_type": "stream",
     "text": [
      "Absolute permeability is 43.98190912381538md\n"
     ]
    }
   ],
   "source": [
    "im_shape = 128\n",
    "resolution = 2.32e-06\n",
    "\n",
    "# absolute permeability of water\n",
    "phys_water.regenerate_models()\n",
    "st = op.algorithms.StokesFlow(network=pn)\n",
    "st.setup(phase=water)\n",
    "# in boundary front water saturation is 1\n",
    "# Boundary pores with constant condition\n",
    "# left is the inlet of flow\n",
    "st.set_value_BC(pores=inlets, values=0)\n",
    "# outlet of flow\n",
    "st.set_value_BC(pores=outlets, values=1) # this part needs some validation\n",
    "st.run()\n",
    "\n",
    "Q_abs_water = st.rate(pores=outlets,mode='group')\n",
    "kabs_water = cal_absolute_perm(im_shape,resolution,Q_abs_water[0])\n",
    "print(f'Absolute permeability is {kabs_water}md')\n",
    "proj.purge_object(obj=st)"
   ]
  },
  {
   "cell_type": "markdown",
   "metadata": {},
   "source": [
    "#### Calculate effective permeability of water"
   ]
  },
  {
   "cell_type": "code",
   "execution_count": 6,
   "metadata": {},
   "outputs": [],
   "source": [
    "keff_water = []\n",
    "phys_water.regenerate_models()\n",
    "\n",
    "# 100 points\n",
    "snw = np.arange(0, 1.01, 0.01)\n",
    "\n",
    "for s in snw:\n",
    "    update_phase_and_phys_water( ip.results(Snwp=s) )\n",
    "    st = op.algorithms.StokesFlow(network=pn)\n",
    "    st.setup(phase=water)\n",
    "    st.set_value_BC(pores=inlets, values=0)\n",
    "    st.set_value_BC(pores=outlets, values=1)\n",
    "    st.run()\n",
    "    Q = st.rate(pores=outlets,mode='group')[0]\n",
    "    keff = cal_eff_perm(im_shape,resolution,Q,water)\n",
    "    keff_water.append(keff)\n",
    "    proj.purge_object(obj=st)\n",
    "    phys_water.regenerate_models()"
   ]
  },
  {
   "cell_type": "markdown",
   "metadata": {},
   "source": [
    "#### Calculate effective permeability of air"
   ]
  },
  {
   "cell_type": "code",
   "execution_count": 7,
   "metadata": {},
   "outputs": [],
   "source": [
    "keff_air = []\n",
    "phys_air.regenerate_models()\n",
    "\n",
    "for s in snw:\n",
    "    update_phase_and_phys_air( ip.results(Snwp=s) )\n",
    "    st = op.algorithms.StokesFlow(network=pn)\n",
    "    st.setup(phase=air)\n",
    "    st.set_value_BC(pores=inlets, values=0)\n",
    "    st.set_value_BC(pores=outlets, values=1)\n",
    "    st.run()\n",
    "    Q = st.rate(pores=outlets,mode='group')[0]\n",
    "    keff = cal_eff_perm(im_shape,resolution,Q,air)\n",
    "    keff_air.append(keff)\n",
    "    proj.purge_object(obj=st)\n",
    "    phys_air.regenerate_models()"
   ]
  },
  {
   "cell_type": "code",
   "execution_count": 8,
   "metadata": {},
   "outputs": [
    {
     "data": {
      "text/plain": [
       "<matplotlib.legend.Legend at 0x140c46c71f0>"
      ]
     },
     "execution_count": 8,
     "metadata": {},
     "output_type": "execute_result"
    },
    {
     "data": {
      "image/png": "[encoded data removed]",
      "text/plain": [
       "<Figure size 432x288 with 1 Axes>"
      ]
     },
     "metadata": {
      "needs_background": "light"
     },
     "output_type": "display_data"
    }
   ],
   "source": [
    "kr_water = np.array(keff_water)/kabs_water\n",
    "kr_air = np.array(keff_air)/kabs_water\n",
    "kr_data = {'Snw':snw,'kr_air':kr_air,'kr_water':kr_water}\n",
    "kr_data =pd.DataFrame(kr_data)\n",
    "\n",
    "f = plt.figure()\n",
    "plt.scatter(snw,np.array(keff_water)/kabs_water,label='water')\n",
    "plt.scatter(snw,np.array(keff_air)/kabs_water,label='air')\n",
    "plt.xlabel('Gas saturation')\n",
    "plt.legend()"
   ]
  },
  {
   "cell_type": "code",
   "execution_count": null,
   "metadata": {},
   "outputs": [],
   "source": []
  }
 ],
 "metadata": {
  "interpreter": {
   "hash": "698ff2eb8555e5f4162b08d9acf9df86fd8951229deb155af429990b4585036f"
  },
  "kernelspec": {
   "display_name": "Python 3.8.12 ('torch')",
   "language": "python",
   "name": "python3"
  },
  "language_info": {
   "codemirror_mode": {
    "name": "ipython",
    "version": 3
   },
   "file_extension": ".py",
   "mimetype": "text/x-python",
   "name": "python",
   "nbconvert_exporter": "python",
   "pygments_lexer": "ipython3",
   "version": "3.8.12"
  },
  "orig_nbformat": 4
 },
 "nbformat": 4,
 "nbformat_minor": 2
}
