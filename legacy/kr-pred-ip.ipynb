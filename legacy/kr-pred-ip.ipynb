{
 "cells": [
  {
   "cell_type": "code",
   "execution_count": 1,
   "metadata": {},
   "outputs": [
    {
     "name": "stdout",
     "output_type": "stream",
     "text": [
      "------------------------------------------------------------\n",
      "Beginning SNOW Algorithm\n",
      "Converting supplied image (im) to boolean\n",
      "Peforming Distance Transform\n",
      "Applying Gaussian blur with sigma = 0.4\n",
      "Initial number of peaks:  249\n",
      "Peaks after trimming saddle points:  143\n",
      "Peaks after trimming nearby peaks:  143\n",
      "------------------------------------------------------------\n",
      "Extracting pore and throat information from image\n",
      "100%|██████████| 244/244 [00:01<00:00, 233.05it/s]\n"
     ]
    }
   ],
   "source": [
    "import numpy as np\n",
    "import openpnm as op\n",
    "import porespy as ps\n",
    "import matplotlib.pyplot as plt\n",
    "import pandas as pd\n",
    "import os\n",
    "from openpnm.models import physics as mods\n",
    "from scipy import stats\n",
    "from skimage.measure import euler_number\n",
    "\n",
    "np.random.seed(10)\n",
    "np.set_printoptions(precision=4)\n",
    "resolution = 2.32e-06\n",
    "im_shape = 128\n",
    "snwp = np.arange(0, 1.005, 0.005)\n",
    "\n",
    "\n",
    "def invasion(phase,direction):\n",
    "    ip = op.algorithms.InvasionPercolation(network=pn)\n",
    "    ip.setup(phase=phase)\n",
    "    in_pores=pn.pores(direction)\n",
    "    ip.set_inlets(pores=in_pores)\n",
    "    ip.run()\n",
    "    return ip\n",
    "    \n",
    "def stokes_flow(phase,inlet,outlet):\n",
    "    st = op.algorithms.StokesFlow(network=pn)\n",
    "    st.setup(phase=phase)\n",
    "    # in boundary front water saturation is 1\n",
    "    # Boundary pores with constant condition\n",
    "    # left is the inlet of flow\n",
    "    st.set_value_BC(pores=pn.pores(inlet), values=0)\n",
    "    # outlet of flow\n",
    "    st.set_value_BC(pores=pn.pores(outlet), values=1) # this part needs some validation\n",
    "    st.run()\n",
    "    return st\n",
    "\n",
    "def cal_absolute_perm(image_size,resolution,outlet,st):\n",
    "    A = (image_size*image_size) *resolution**2 # m^2\n",
    "    L = image_size * resolution # m\n",
    "    mu = water['pore.viscosity'].max() # N s/m^2 or Pa s\n",
    "    Pressure = 1 # pa\n",
    "    delta_P = Pressure - 0\n",
    "\n",
    "    Q = st.rate(pores=pn.pores(outlet), mode='group')\n",
    "    K = Q[0] * L * mu / (A * delta_P)\n",
    "\n",
    "    return K/0.98e-12*1000 # unit md\n",
    "\n",
    "def cal_eff_perm(image_size,resolution,outlet,st,phase):\n",
    "    A = (image_size*image_size) *resolution**2\n",
    "    L = image_size * resolution\n",
    "    mu = phase['pore.viscosity'].max() # N s/m^2 or Pa s\n",
    "    Pressure = 1 # pa\n",
    "    delta_P = Pressure - 0\n",
    "\n",
    "    Q = st.rate(pores=pn.pores(outlet), mode='group')\n",
    "    K = Q[0] * L * mu / (A * delta_P)\n",
    "\n",
    "    return K/0.98e-12*1000\n",
    "\n",
    "def network_extract(im,resolution):\n",
    "\n",
    "    snow = ps.networks.snow(\n",
    "    im=im,\n",
    "    voxel_size=resolution)\n",
    "\n",
    "    proj = op.io.PoreSpy.import_data(snow)\n",
    "\n",
    "    return proj\n",
    "\n",
    "def get_physics(gen_physics):\n",
    "    gen_physics.add_model(propname='throat.hydraulic_conductance',\n",
    "                model=mods.hydraulic_conductance.classic_hagen_poiseuille)\n",
    "    gen_physics.add_model(propname='throat.entry_pressure',\n",
    "                model=mods.capillary_pressure.washburn)\n",
    "    return gen_physics\n",
    "\n",
    "def load_nparray(fname,name):\n",
    "    # fname: image index\n",
    "    # name: rock type\n",
    "    # PATH: current working directory\n",
    "    load_PATH = name+'-sub/'+ fname\n",
    "    im1 = np.load(load_PATH)\n",
    "    return im1\n",
    "\n",
    "im = np.load('1.npy')\n",
    "ws = op.Workspace()\n",
    "resolution = 2.25e-6 \n",
    "snow = ps.networks.snow(\n",
    "im=im,\n",
    "voxel_size=resolution)\n",
    "\n",
    "proj = op.io.PoreSpy.import_data(snow)\n",
    "pn,geo = proj[0],proj[1]\n",
    "\n",
    "# os.chdir('/akshat/s0/zur74/data')\n",
    "# os.chdir('/Users/zihanren/OneDrive/tmp')\n",
    "data_tmp = {}\n",
    "\n",
    "data_tmp['coordination'] = np.mean(pn.num_neighbors(pn.Ps))\n",
    "data_tmp['porosity'] = ps.metrics.porosity(im)\n",
    "data_tmp['pore.diameter'] = np.mean(geo['pore.diameter'])\n",
    "data_tmp['throat.diameter'] = np.mean(geo['throat.diameter'])\n",
    "data_tmp['euler'] = euler_number(im,connectivity=3)\n",
    "\n",
    "health = pn.check_network_health()\n",
    "op.topotools.trim(network=pn, pores=health['trim_pores'])\n",
    "\n",
    "if ( (len(pn.pores('top')) > 0) & (len(pn.pores('bottom')) > 0) ):\n",
    "    inlet = 'top'\n",
    "    outlet = 'bottom'\n",
    "\n",
    "elif ( (len(pn.pores('left')) > 0) & (len(pn.pores('right')) > 0) ):\n",
    "    inlet = 'left'\n",
    "    outlet = 'right'\n",
    "\n",
    "elif ( (len(pn.pores('front')) > 0) & (len(pn.pores('back')) > 0) ):\n",
    "    inlet = 'front'\n",
    "    outlet = 'back'\n",
    "\n",
    "# define phase and physics\n",
    "# assuming temperature is \n",
    "air = op.phases.Air(network=pn)\n",
    "water = op.phases.Water(network=pn)\n",
    "air['pore.contact_angle'] = 180\n",
    "water['pore.contact_angle'] = 0\n",
    "water['pore.surface_tension'] = 0.064\n",
    "air['pore.surface_tension'] = 0.064\n",
    "\n",
    "phys_air = op.physics.GenericPhysics(network=pn, phase=air, geometry=geo)\n",
    "phys_water=op.physics.GenericPhysics(network=pn, phase=water, geometry=geo)\n",
    "phys_air = get_physics(phys_air)\n",
    "phys_water = get_physics(phys_water)\n"
   ]
  },
  {
   "cell_type": "markdown",
   "metadata": {},
   "source": [
    "# Explanation of invasion percolation\n",
    "Comparing with ordinary percolation, invasion percolation starts from inlet. Non-wetting phase only invades adjacent pore and throats that are already filled with non-wetting phase. Not all possible throats are filled. Whereas during ordinary percolation, the filling process is strictly controlled by the sequence of throat size. \n",
    "\n",
    "Ordinary percolation: Displacement in a porous medium where the pore and throat size vary, but without any long-range spatial correlation."
   ]
  },
  {
   "cell_type": "code",
   "execution_count": 2,
   "metadata": {},
   "outputs": [],
   "source": [
    "ip=invasion(air,inlet)\n",
    "st = stokes_flow(water,inlet,outlet)\n",
    "Q_abs_water = st.rate(pores=pn.pores(outlet))\n",
    "kabs_tmp = cal_absolute_perm(im_shape,resolution,outlet,st)\n",
    "val = 0\n",
    "phys_water.regenerate_models() \n",
    "kw_tmp = []\n",
    "\n",
    "for s in snwp:  \n",
    "    air.update(ip.results(Snwp=s))\n",
    "    phys_water['throat.hydraulic_conductance'][air['throat.occupancy']] = val\n",
    "    st.run()\n",
    "    kw_tmp.append(cal_eff_perm(im_shape,resolution,outlet,st,water))\n",
    "    phys_water.regenerate_models()\n",
    "\n",
    "phys_water.regenerate_models()\n",
    "phys_air.regenerate_models()\n",
    "\n",
    "\n",
    "\n"
   ]
  },
  {
   "cell_type": "code",
   "execution_count": 3,
   "metadata": {},
   "outputs": [],
   "source": [
    "st_a = stokes_flow(air,inlet,outlet)\n",
    "Q_abs_air = st_a.rate(pores=pn.pores(outlet))\n",
    "knw_tmp = []\n",
    "\n",
    "for s in snwp:  \n",
    "    air.update(ip.results(Snwp=s))\n",
    "    phys_air['throat.hydraulic_conductance'][~air['throat.occupancy']] = val\n",
    "    st_a.run()\n",
    "    knw_tmp.append(cal_eff_perm(im_shape,resolution,outlet,st_a,air))\n",
    "    phys_air.regenerate_models()"
   ]
  },
  {
   "cell_type": "code",
   "execution_count": 4,
   "metadata": {},
   "outputs": [],
   "source": [
    "# calcualte kr\n",
    "krw_tmp = np.array(kw_tmp)/kabs_tmp\n",
    "krnw_tmp = np.array(knw_tmp)/kabs_tmp\n",
    "\n",
    "data_tmp['kr_water'] = krw_tmp\n",
    "data_tmp['kr_air'] = krnw_tmp\n",
    "data_tmp['k_water'] = np.array(kw_tmp)\n",
    "data_tmp['k_air'] = np.array(krnw_tmp)\n",
    "data_tmp['kabs'] = kabs_tmp\n",
    "kr_data = pd.DataFrame(snwp,columns=['Snw'])\n",
    "kr_data['kr_water'] = data_tmp['kr_water']\n",
    "kr_data['kr_air'] = data_tmp['kr_air']"
   ]
  },
  {
   "cell_type": "code",
   "execution_count": 8,
   "metadata": {},
   "outputs": [
    {
     "data": {
      "text/plain": [
       "<matplotlib.legend.Legend at 0x7f4a06609ee0>"
      ]
     },
     "execution_count": 8,
     "metadata": {},
     "output_type": "execute_result"
    },
    {
     "data": {
      "image/png": "[encoded data removed]",
      "text/plain": [
       "<Figure size 432x288 with 1 Axes>"
      ]
     },
     "metadata": {
      "needs_background": "light"
     },
     "output_type": "display_data"
    }
   ],
   "source": [
    "f = plt.figure()\n",
    "plt.scatter(kr_data['Snw'],kr_data['kr_air'],c='r',label='air')\n",
    "plt.scatter(kr_data['Snw'],kr_data['kr_water'],c='b',label='water')\n",
    "plt.xlabel('Air saturation')\n",
    "plt.legend()"
   ]
  },
  {
   "cell_type": "markdown",
   "metadata": {},
   "source": [
    "# Caveats:\n",
    "Prediction of relative permeability fails to considering connate water saturation"
   ]
  },
  {
   "cell_type": "code",
   "execution_count": 7,
   "metadata": {},
   "outputs": [
    {
     "data": {
      "text/plain": [
       "<matplotlib.legend.Legend at 0x7f4a06697340>"
      ]
     },
     "execution_count": 7,
     "metadata": {},
     "output_type": "execute_result"
    },
    {
     "data": {
      "image/png": "[encoded data removed]",
      "text/plain": [
       "<Figure size 432x288 with 1 Axes>"
      ]
     },
     "metadata": {
      "needs_background": "light"
     },
     "output_type": "display_data"
    }
   ],
   "source": [
    "f = plt.figure()\n",
    "plt.scatter(1-kr_data['Snw'],kr_data['kr_air'],c='r',label='air')\n",
    "plt.scatter(1-kr_data['Snw'],kr_data['kr_water'],c='b',label='water')\n",
    "plt.xlabel('Water saturation')\n",
    "plt.legend()"
   ]
  },
  {
   "cell_type": "markdown",
   "metadata": {},
   "source": [
    "There is no irreducible water saturation during percolation process. \n",
    "The residual gas saturation is 0.4"
   ]
  },
  {
   "cell_type": "code",
   "execution_count": null,
   "metadata": {},
   "outputs": [],
   "source": []
  }
 ],
 "metadata": {
  "interpreter": {
   "hash": "698ff2eb8555e5f4162b08d9acf9df86fd8951229deb155af429990b4585036f"
  },
  "kernelspec": {
   "display_name": "Python 3.8.12 ('torch')",
   "language": "python",
   "name": "python3"
  },
  "language_info": {
   "codemirror_mode": {
    "name": "ipython",
    "version": 3
   },
   "file_extension": ".py",
   "mimetype": "text/x-python",
   "name": "python",
   "nbconvert_exporter": "python",
   "pygments_lexer": "ipython3",
   "version": "3.8.12"
  },
  "orig_nbformat": 4
 },
 "nbformat": 4,
 "nbformat_minor": 2
}
